{
  "nbformat": 4,
  "nbformat_minor": 0,
  "metadata": {
    "colab": {
      "name": "kuzushiji.ipynb",
      "provenance": [],
      "collapsed_sections": [
        "wnnrjQr2Je8b",
        "Qsx1XxphlUbL"
      ],
      "toc_visible": true,
      "include_colab_link": true
    },
    "kernelspec": {
      "name": "python3",
      "display_name": "Python 3"
    },
    "accelerator": "GPU"
  },
  "cells": [
    {
      "cell_type": "markdown",
      "metadata": {
        "id": "view-in-github",
        "colab_type": "text"
      },
      "source": [
        "<a href=\"https://colab.research.google.com/github/morutkin/MLProject/blob/master/kuzushiji.ipynb\" target=\"_parent\"><img src=\"https://colab.research.google.com/assets/colab-badge.svg\" alt=\"Open In Colab\"/></a>"
      ]
    },
    {
      "cell_type": "code",
      "metadata": {
        "id": "ghygK9QTmWKI",
        "colab_type": "code",
        "colab": {}
      },
      "source": [
        ""
      ],
      "execution_count": 0,
      "outputs": []
    },
    {
      "cell_type": "markdown",
      "metadata": {
        "id": "x5oeqcjiaAdK",
        "colab_type": "text"
      },
      "source": [
        "Momo:\n",
        "- tSNE\n",
        "- KNN \n",
        "\n",
        "\n",
        "Seo:\n",
        "- pre process \n",
        " * char crops for model input \n",
        " * image crop with multiple chars \n",
        "    * should have bounding boxes around chars \n",
        "    * figure out most ideal crop sizes \n",
        "\n",
        "* Two inputs to the models\n",
        " * one character crops \n",
        " * image crops with multiple characters (each one would \n",
        " have a bounding box around it \n",
        "* for the segmentation into characters, use Faster-RCNN model with resnet152 backbone trained with torchvision detection. Only one class \n",
        "  * resnet152 backbone worked a bit better than default resnet50 \n",
        "  * pipeline was modified to accept empty crops, (crops without ground truth objects) to reduce amount of false positives,\n",
        "  * it was trained on 512x384 crops\n",
        "* improvement potentials \n",
        "  * mmdetection - can be used for better object detection \n",
        "  * blending predictions from different folds for submission\n",
        "  * SGD with momentum \n",
        "  * resnext101_32x8d_wsl with psudo labeling is the best op 80% most confident predictions from the blend were used, having accuracy >99% according to validation. Next, two kinds of models were trained (all based on resnext101_32x8d_wsl):\n",
        "      * models from previous step fine-tuned for 5 epochs (compared to 50 epochs for training from scratch) with starting learning rate 10x smaller than initial learning rate.\n",
        "models trained from scratch with default settings.\n",
        "  * Overall, many improvement are possible here, from just using bigger models and freezing less layers, to more work on training schedule, augmentations, etc.\n",
        "  * XGBoost and LighGBM models were trained across all folds, and then blended.\n",
        "\n",
        "Important stuff to note:\n",
        "* we have to create our own bounding boxes around the test set characters, the 2nd place winners suggest that we use resnet(which predicts objects) and do cross validation to get the omost accurate box classifications \n",
        "* after this happens, then we would classify the characters\n",
        "\n",
        "KNN \n",
        "* https://github.com/lopuhin/kaggle-kuzushiji-2019/blob/master/kuzushiji/classify/knn.py\n",
        "\n",
        "Websites:\n",
        "https://www.kaggle.com/c/kuzushiji-recognition/discussion/112712#latest-675509\n"
      ]
    },
    {
      "cell_type": "markdown",
      "metadata": {
        "id": "q5GNlafNmbAr",
        "colab_type": "text"
      },
      "source": [
        "# Kuzushiji Translation\n",
        "\n",
        "\n",
        "\n",
        "\n",
        "\n",
        "\n",
        "### Team Members: Momo Rutkin, Seo Choe\n",
        "\n",
        "## Description:\n",
        "Japan is a country with thousands of years of culture with written records dating back to the 8th century.  Many of the books and letters written unveils a lot about Japanese portrayal of various aspects of life, including stories and anecdotes known throughout their people. However, a lot of these written materials are unrecognizable to modern Japanese people due to the change in language over the years. One of these big transformations was from Kuzushiji to modern Japanese. \n",
        "<br> <br> Kuzushiji is a Japanese cursive writing style that has stopped being used 150 years ago when the Japanese education system had a reformation. Although some of the characters reflect similar characters used in the modern Japanese language, many of the characters are still hard to make meaning of. Although most of Japans historical books are written in this form, only 0.01% of Japanese people living today can read them fluently. Due to the lack of human resources, there has been huge efforts to use Machine Learning to transcribe these ancient texts into modern Japanese characters. However, there are many challenges that make character recognition efforts challenging for Machine Learning purposes. \n",
        "\n",
        "\n",
        "\n"
      ]
    },
    {
      "cell_type": "markdown",
      "metadata": {
        "id": "g4eS-iLZabV4",
        "colab_type": "text"
      },
      "source": [
        "## Some of these challenges include:\n",
        " \n",
        "\n",
        "*   A large number of character types with a majority of the characters used in frequently, resulting in an unbalanced character representation within the dataset \n",
        "*   While in modern Japanese, theres only a single way of writing each character, in Kuzushiji, there were many different ways of writing the same character. This phenomenon is called Hentaigana\n",
        "*   Some unique characters look very similar so it’s hard to distinguish between the two \n",
        "*   Connectedness and overlap between the characters since this is a cursive script  \n",
        "*   Various layouts where Kuzushiji is written \n",
        "\n",
        "## Goal: \n",
        "To take the data from ROIS-DS Center For Humanities and build a model that can locate and classify Kuzushiji-characters on images.\n",
        "\n"
      ]
    },
    {
      "cell_type": "markdown",
      "metadata": {
        "id": "JmSeipWIauC5",
        "colab_type": "text"
      },
      "source": [
        "## Data:\n",
        "\n",
        "### Train.csv: \n",
        " * <b>Image_id</b>: The filename used to uniquely identify each image\n",
        " * <b>labels</b>: A string containing all labels for the given image. This can be used to draw a bounding box around each character on the image. The string contains each Unicode character, X-coordinate, Y-coordinate, With and Height. The information are space seperated.\n",
        " \n",
        "### Unicode_translations.csv:\n",
        " * Mappings of the unicode ID to the modern Japanese character\n",
        "\n",
        "### train_images.zip:\n",
        "* Training images\n",
        "* All the characters in these images are classified in train.csv\n",
        "\n",
        "### test_images.zip:\n",
        "* Testing images\n",
        "\n"
      ]
    },
    {
      "cell_type": "markdown",
      "metadata": {
        "id": "XPSiKSiIa0lo",
        "colab_type": "text"
      },
      "source": [
        "## EDA Steps:\n",
        "* First, we would like to do EDA to get a better feel for the most frequent characters within the training set. We would do this using T-SNE, which can visually group together common characters\n",
        "\n",
        "\n",
        "\n",
        "\n",
        "* We also want to take the competitions given data visualizer seen in: https://www.kaggle.com/anokas/kuzushiji-visualisation to see the labels associated with the characters in the images for the training data as well. This will give us a better understanding of the similarities and differences between the data and the associated labels. \n",
        "\n"
      ]
    },
    {
      "cell_type": "markdown",
      "metadata": {
        "id": "WmahflHzbCFa",
        "colab_type": "text"
      },
      "source": [
        "## Preprocessing Steps:\n",
        "* Due to the high imablance in the dataset in terms of representation of characters, we would want to think of ensemble classifiers that can help balance out the different classifications via a balanced bagging classifier for resampling before training classifiers.\n",
        "\n",
        "* \n",
        "\n",
        "* PCA\n",
        "\n",
        "\n"
      ]
    },
    {
      "cell_type": "markdown",
      "metadata": {
        "id": "H1nFvzSfa4Rc",
        "colab_type": "text"
      },
      "source": [
        ""
      ]
    },
    {
      "cell_type": "markdown",
      "metadata": {
        "id": "9R4LZVWmbHKF",
        "colab_type": "text"
      },
      "source": [
        "## ML Steps:\n",
        "### Supervised:\n",
        "* KNN\n",
        "* Naive Bayes \n",
        "\n",
        "\n",
        "### Unsupervised:\n",
        "* CNN - XGBoost. loss function on CNN results. feed output of CNN to XGboost  \n",
        "* CNN - SVM \n",
        "\n",
        "### What a sample Submission Looks Like:\n",
        "\n",
        "### How are submissions evaluated?: F1-Score\n",
        "* Talk about what the output would look like:\n",
        "* https://www.kaggle.com/anokas/kuzushiji-modified-f-1-score -- talk about what their F1 score metric does \n",
        "\n",
        "\n"
      ]
    },
    {
      "cell_type": "markdown",
      "metadata": {
        "id": "oTgsPZHewzIL",
        "colab_type": "text"
      },
      "source": [
        "# Ways to improve Accuracy \n",
        "* use the dropout method when training neural nets - reduces overfitting \n",
        "* train parameters using kfolds \n",
        "* regularization penality for loss funtion for NN\n"
      ]
    },
    {
      "cell_type": "markdown",
      "metadata": {
        "id": "klZW8v62bL13",
        "colab_type": "text"
      },
      "source": [
        "### References:\n",
        "https://www.kaggle.com/christianwallenwein/visualization-useful-functions-small-eda\n",
        "\n",
        "https://towardsdatascience.com/deep-learning-for-classical-japanese-literature-48ae04c17dfd\n"
      ]
    },
    {
      "cell_type": "markdown",
      "metadata": {
        "id": "K3Ih-W7obb3z",
        "colab_type": "text"
      },
      "source": [
        "# Data Imports\n",
        "\n",
        "For each time you open Collab, make sure to run all of the code in order. "
      ]
    },
    {
      "cell_type": "code",
      "metadata": {
        "id": "WXURWWjLObsB",
        "colab_type": "code",
        "outputId": "060e6d2a-9b31-46a8-d2bd-3aae70423131",
        "colab": {
          "base_uri": "https://localhost:8080/",
          "height": 34
        }
      },
      "source": [
        "from googleapiclient.discovery import build\n",
        "import io, os\n",
        "from googleapiclient.http import MediaIoBaseDownload\n",
        "from google.colab import auth\n",
        "auth.authenticate_user()\n",
        "\n",
        "drive_service = build('drive', 'v3')\n",
        "results = drive_service.files().list(\n",
        "        q=\"name = 'kaggle.json'\", fields=\"files(id)\").execute()\n",
        "kaggle_api_key = results.get('files', [])\n",
        "filename = \"/content/.kaggle/kaggle.json\"\n",
        "os.makedirs(os.path.dirname(filename), exist_ok=True)\n",
        "request = drive_service.files().get_media(fileId=kaggle_api_key[0]['id'])\n",
        "fh = io.FileIO(filename, 'wb')\n",
        "downloader = MediaIoBaseDownload(fh, request)\n",
        "done = False\n",
        "while done is False:\n",
        "    status, done = downloader.next_chunk()\n",
        "    print(\"Download %d%%.\" % int(status.progress() * 100))\n",
        "os.chmod(filename, 600)\n"
      ],
      "execution_count": 1,
      "outputs": [
        {
          "output_type": "stream",
          "text": [
            "Download 100%.\n"
          ],
          "name": "stdout"
        }
      ]
    },
    {
      "cell_type": "code",
      "metadata": {
        "id": "kKLmyq0vReqZ",
        "colab_type": "code",
        "colab": {}
      },
      "source": [
        "pip install kaggle"
      ],
      "execution_count": 0,
      "outputs": []
    },
    {
      "cell_type": "code",
      "metadata": {
        "id": "yI681v6HQ1iK",
        "colab_type": "code",
        "colab": {}
      },
      "source": [
        "!cp /content/.kaggle/kaggle.json ~/.kaggle/kaggle.json"
      ],
      "execution_count": 0,
      "outputs": []
    },
    {
      "cell_type": "code",
      "metadata": {
        "id": "DrItPkSBPCBd",
        "colab_type": "code",
        "colab": {
          "base_uri": "https://localhost:8080/",
          "height": 153
        },
        "outputId": "ad96ee47-142b-4361-daac-3d7253889580"
      },
      "source": [
        "!kaggle competitions list"
      ],
      "execution_count": 11,
      "outputs": [
        {
          "output_type": "stream",
          "text": [
            "Traceback (most recent call last):\n",
            "  File \"/usr/local/bin/kaggle\", line 5, in <module>\n",
            "    from kaggle.cli import main\n",
            "  File \"/usr/local/lib/python2.7/dist-packages/kaggle/__init__.py\", line 23, in <module>\n",
            "    api.authenticate()\n",
            "  File \"/usr/local/lib/python2.7/dist-packages/kaggle/api/kaggle_api_extended.py\", line 146, in authenticate\n",
            "    self.config_file, self.config_dir))\n",
            "IOError: Could not find kaggle.json. Make sure it's located in /root/.kaggle. Or use the environment method.\n"
          ],
          "name": "stdout"
        }
      ]
    },
    {
      "cell_type": "code",
      "metadata": {
        "id": "yO0QmFTwnUtb",
        "colab_type": "code",
        "outputId": "11443ed7-852d-4bb9-9f8f-72a9ccba1106",
        "colab": {
          "base_uri": "https://localhost:8080/",
          "height": 153
        }
      },
      "source": [
        "!kaggle competitions files -c kuzushiji-recognition"
      ],
      "execution_count": 0,
      "outputs": [
        {
          "output_type": "stream",
          "text": [
            "Warning: Looks like you're using an outdated API Version, please consider updating (server 1.5.6 / client 1.5.4)\n",
            "name                      size  creationDate         \n",
            "-----------------------  -----  -------------------  \n",
            "unicode_translation.csv   51KB  2019-07-25 14:32:40  \n",
            "sample_submission.csv    146KB  2019-07-25 14:32:47  \n",
            "train.csv                 15MB  2019-07-25 14:32:48  \n",
            "test_images.zip            4GB  2019-07-25 14:32:48  \n",
            "train_images.zip           3GB  2019-07-25 14:32:48  \n"
          ],
          "name": "stdout"
        }
      ]
    },
    {
      "cell_type": "code",
      "metadata": {
        "id": "43zqJC1Xnskr",
        "colab_type": "code",
        "outputId": "8db707ac-7ab2-403c-c145-2b6aaaed70e7",
        "colab": {
          "base_uri": "https://localhost:8080/",
          "height": 289
        }
      },
      "source": [
        "!kaggle competitions download  -c kuzushiji-recognition -p /content/kaggle"
      ],
      "execution_count": 14,
      "outputs": [
        {
          "output_type": "stream",
          "text": [
            "Warning: Looks like you're using an outdated API Version, please consider updating (server 1.5.6 / client 1.5.4)\n",
            "Downloading unicode_translation.csv to /content/kaggle\n",
            "  0% 0.00/51.5k [00:00<?, ?B/s]\n",
            "100% 51.5k/51.5k [00:00<00:00, 45.4MB/s]\n",
            "Downloading sample_submission.csv to /content/kaggle\n",
            "  0% 0.00/146k [00:00<?, ?B/s]\n",
            "100% 146k/146k [00:00<00:00, 45.4MB/s]\n",
            "Downloading train.csv.zip to /content/kaggle\n",
            " 88% 5.00M/5.67M [00:00<00:00, 27.2MB/s]\n",
            "100% 5.67M/5.67M [00:00<00:00, 27.8MB/s]\n",
            "Downloading test_images.zip to /content/kaggle\n",
            "100% 3.58G/3.58G [00:51<00:00, 41.4MB/s]\n",
            "100% 3.58G/3.58G [00:51<00:00, 74.9MB/s]\n",
            "Downloading train_images.zip to /content/kaggle\n",
            "100% 3.03G/3.03G [00:40<00:00, 91.4MB/s]\n",
            "100% 3.03G/3.03G [00:40<00:00, 81.3MB/s]\n"
          ],
          "name": "stdout"
        }
      ]
    },
    {
      "cell_type": "code",
      "metadata": {
        "id": "exGNM7OGqyWs",
        "colab_type": "code",
        "colab": {}
      },
      "source": [
        "from google.colab import drive\n",
        "drive.mount('/content/drive')"
      ],
      "execution_count": 0,
      "outputs": []
    },
    {
      "cell_type": "markdown",
      "metadata": {
        "id": "XXDRhLoWbkHb",
        "colab_type": "text"
      },
      "source": [
        "# Data Pre Processing\n",
        "\n",
        "The data preprocessing will consist of \n",
        "* <b>image cropping + resizing for uniform size</b>:\n",
        "  * for single characters\n",
        "  * for multiple characters in a crop \n",
        "\n",
        "<b> Possible additional preprocessing </b>\n",
        "* turning the color of the characters to a uniform black \n",
        "* For NN\n",
        " * rescale continuous features \n",
        " * diagnal covariance matrix \n",
        " * whiten data \n"
      ]
    },
    {
      "cell_type": "code",
      "metadata": {
        "id": "vr6EJlDxhnTH",
        "colab_type": "code",
        "outputId": "fb9e3c53-9978-4afe-f8f6-800d9a6830ed",
        "colab": {
          "base_uri": "https://localhost:8080/",
          "height": 34
        }
      },
      "source": [
        "#for Noto font for kanji \n",
        "!wget -q --show-progress https://noto-website-2.storage.googleapis.com/pkgs/NotoSansCJKjp-hinted.zip\n",
        "!unzip -p NotoSansCJKjp-hinted.zip NotoSansCJKjp-Regular.otf > NotoSansCJKjp-Regular.otf\n",
        "!rm NotoSansCJKjp-hinted.zip\n",
        "import matplotlib.font_manager as font_manager\n",
        "path = './NotoSansCJKjp-Regular.otf'\n",
        "prop = font_manager.FontProperties(fname=path)"
      ],
      "execution_count": 0,
      "outputs": [
        {
          "output_type": "stream",
          "text": [
            "NotoSansCJKjp-hinte 100%[===================>] 115.49M  47.8MB/s    in 2.4s    \n"
          ],
          "name": "stdout"
        }
      ]
    },
    {
      "cell_type": "code",
      "metadata": {
        "id": "SwhpYH1fkVpl",
        "colab_type": "code",
        "outputId": "ac125010-d0ac-49c2-9ea2-44a8b2ab14c4",
        "colab": {
          "base_uri": "https://localhost:8080/",
          "height": 241
        }
      },
      "source": [
        "#for mmdetection \n",
        "pip install mmcv"
      ],
      "execution_count": 0,
      "outputs": [
        {
          "output_type": "stream",
          "text": [
            "Requirement already satisfied: mmcv in /usr/local/lib/python3.6/dist-packages (0.2.14)\n",
            "Requirement already satisfied: addict in /usr/local/lib/python3.6/dist-packages (from mmcv) (2.2.1)\n",
            "Requirement already satisfied: opencv-python in /usr/local/lib/python3.6/dist-packages (from mmcv) (3.4.7.28)\n",
            "Requirement already satisfied: Cython in /usr/local/lib/python3.6/dist-packages (from mmcv) (0.29.14)\n",
            "Requirement already satisfied: requests in /usr/local/lib/python3.6/dist-packages (from mmcv) (2.21.0)\n",
            "Requirement already satisfied: numpy>=1.11.1 in /usr/local/lib/python3.6/dist-packages (from mmcv) (1.17.4)\n",
            "Requirement already satisfied: pyyaml in /usr/local/lib/python3.6/dist-packages (from mmcv) (3.13)\n",
            "Requirement already satisfied: six in /usr/local/lib/python3.6/dist-packages (from mmcv) (1.12.0)\n",
            "Requirement already satisfied: urllib3<1.25,>=1.21.1 in /usr/local/lib/python3.6/dist-packages (from requests->mmcv) (1.24.3)\n",
            "Requirement already satisfied: chardet<3.1.0,>=3.0.2 in /usr/local/lib/python3.6/dist-packages (from requests->mmcv) (3.0.4)\n",
            "Requirement already satisfied: certifi>=2017.4.17 in /usr/local/lib/python3.6/dist-packages (from requests->mmcv) (2019.9.11)\n",
            "Requirement already satisfied: idna<2.9,>=2.5 in /usr/local/lib/python3.6/dist-packages (from requests->mmcv) (2.8)\n"
          ],
          "name": "stdout"
        }
      ]
    },
    {
      "cell_type": "code",
      "metadata": {
        "id": "LzIy6wNULcAY",
        "colab_type": "code",
        "outputId": "ebdbefef-60cb-4946-e994-20ec5486b43b",
        "colab": {
          "base_uri": "https://localhost:8080/",
          "height": 1000
        }
      },
      "source": [
        "!wget https://repo.anaconda.com/archive/Anaconda3-5.2.0-Linux-x86_64.sh && bash Anaconda3-5.2.0-Linux-x86_64.sh -bfp /usr/local\n",
        "import sys\n",
        "sys.path.append('/usr/local/lib/python3.6/site-packages')\n"
      ],
      "execution_count": 0,
      "outputs": [
        {
          "output_type": "stream",
          "text": [
            "--2019-12-03 19:42:59--  https://repo.anaconda.com/archive/Anaconda3-5.2.0-Linux-x86_64.sh\n",
            "Resolving repo.anaconda.com (repo.anaconda.com)... 104.16.130.3, 104.16.131.3, 2606:4700::6810:8303, ...\n",
            "Connecting to repo.anaconda.com (repo.anaconda.com)|104.16.130.3|:443... connected.\n",
            "HTTP request sent, awaiting response... 200 OK\n",
            "Length: 651745206 (622M) [application/x-sh]\n",
            "Saving to: ‘Anaconda3-5.2.0-Linux-x86_64.sh’\n",
            "\n",
            "Anaconda3-5.2.0-Lin 100%[===================>] 621.55M   183MB/s    in 3.4s    \n",
            "\n",
            "2019-12-03 19:43:02 (185 MB/s) - ‘Anaconda3-5.2.0-Linux-x86_64.sh’ saved [651745206/651745206]\n",
            "\n",
            "PREFIX=/usr/local\n",
            "installing: python-3.6.5-hc3d631a_2 ...\n",
            "Python 3.6.5 :: Anaconda, Inc.\n",
            "installing: blas-1.0-mkl ...\n",
            "installing: ca-certificates-2018.03.07-0 ...\n",
            "installing: conda-env-2.6.0-h36134e3_1 ...\n",
            "installing: intel-openmp-2018.0.0-8 ...\n",
            "installing: libgcc-ng-7.2.0-hdf63c60_3 ...\n",
            "installing: libgfortran-ng-7.2.0-hdf63c60_3 ...\n",
            "installing: libstdcxx-ng-7.2.0-hdf63c60_3 ...\n",
            "installing: bzip2-1.0.6-h14c3975_5 ...\n",
            "installing: expat-2.2.5-he0dffb1_0 ...\n",
            "installing: gmp-6.1.2-h6c8ec71_1 ...\n",
            "installing: graphite2-1.3.11-h16798f4_2 ...\n",
            "installing: icu-58.2-h9c2bf20_1 ...\n",
            "installing: jbig-2.1-hdba287a_0 ...\n",
            "installing: jpeg-9b-h024ee3a_2 ...\n",
            "installing: libffi-3.2.1-hd88cf55_4 ...\n",
            "installing: libsodium-1.0.16-h1bed415_0 ...\n",
            "installing: libtool-2.4.6-h544aabb_3 ...\n",
            "installing: libxcb-1.13-h1bed415_1 ...\n",
            "installing: lzo-2.10-h49e0be7_2 ...\n",
            "installing: mkl-2018.0.2-1 ...\n",
            "installing: ncurses-6.1-hf484d3e_0 ...\n",
            "installing: openssl-1.0.2o-h20670df_0 ...\n",
            "installing: patchelf-0.9-hf79760b_2 ...\n",
            "installing: pcre-8.42-h439df22_0 ...\n",
            "installing: pixman-0.34.0-hceecf20_3 ...\n",
            "installing: snappy-1.1.7-hbae5bb6_3 ...\n",
            "installing: tk-8.6.7-hc745277_3 ...\n",
            "installing: unixodbc-2.3.6-h1bed415_0 ...\n",
            "installing: xz-5.2.4-h14c3975_4 ...\n",
            "installing: yaml-0.1.7-had09818_2 ...\n",
            "installing: zlib-1.2.11-ha838bed_2 ...\n",
            "installing: blosc-1.14.3-hdbcaa40_0 ...\n",
            "installing: glib-2.56.1-h000015b_0 ...\n",
            "installing: hdf5-1.10.2-hba1933b_1 ...\n",
            "installing: libedit-3.1.20170329-h6b74fdf_2 ...\n",
            "installing: libpng-1.6.34-hb9fc6fc_0 ...\n",
            "installing: libssh2-1.8.0-h9cfc8f7_4 ...\n",
            "installing: libtiff-4.0.9-he85c1e1_1 ...\n",
            "installing: libxml2-2.9.8-h26e45fe_1 ...\n",
            "installing: mpfr-3.1.5-h11a74b3_2 ...\n",
            "installing: pandoc-1.19.2.1-hea2e7c5_1 ...\n",
            "installing: readline-7.0-ha6073c6_4 ...\n",
            "installing: zeromq-4.2.5-h439df22_0 ...\n",
            "installing: dbus-1.13.2-h714fa37_1 ...\n",
            "installing: freetype-2.8-hab7d2ae_1 ...\n",
            "installing: gstreamer-1.14.0-hb453b48_1 ...\n",
            "installing: libcurl-7.60.0-h1ad7b7a_0 ...\n",
            "installing: libxslt-1.1.32-h1312cb7_0 ...\n",
            "installing: mpc-1.0.3-hec55b23_5 ...\n",
            "installing: sqlite-3.23.1-he433501_0 ...\n",
            "installing: curl-7.60.0-h84994c4_0 ...\n",
            "installing: fontconfig-2.12.6-h49f89f6_0 ...\n",
            "installing: gst-plugins-base-1.14.0-hbbd80ab_1 ...\n",
            "installing: alabaster-0.7.10-py36h306e16b_0 ...\n",
            "installing: asn1crypto-0.24.0-py36_0 ...\n",
            "installing: attrs-18.1.0-py36_0 ...\n",
            "installing: backcall-0.1.0-py36_0 ...\n",
            "installing: backports-1.0-py36hfa02d7e_1 ...\n",
            "installing: beautifulsoup4-4.6.0-py36h49b8c8c_1 ...\n",
            "installing: bitarray-0.8.1-py36h14c3975_1 ...\n",
            "installing: boto-2.48.0-py36h6e4cd66_1 ...\n",
            "installing: cairo-1.14.12-h7636065_2 ...\n",
            "installing: certifi-2018.4.16-py36_0 ...\n",
            "installing: chardet-3.0.4-py36h0f667ec_1 ...\n",
            "installing: click-6.7-py36h5253387_0 ...\n",
            "installing: cloudpickle-0.5.3-py36_0 ...\n",
            "installing: colorama-0.3.9-py36h489cec4_0 ...\n",
            "installing: contextlib2-0.5.5-py36h6c84a62_0 ...\n",
            "installing: dask-core-0.17.5-py36_0 ...\n",
            "installing: decorator-4.3.0-py36_0 ...\n",
            "installing: docutils-0.14-py36hb0f60f5_0 ...\n",
            "installing: entrypoints-0.2.3-py36h1aec115_2 ...\n",
            "installing: et_xmlfile-1.0.1-py36hd6bccc3_0 ...\n",
            "installing: fastcache-1.0.2-py36h14c3975_2 ...\n",
            "installing: filelock-3.0.4-py36_0 ...\n",
            "installing: glob2-0.6-py36he249c77_0 ...\n",
            "installing: gmpy2-2.0.8-py36hc8893dd_2 ...\n",
            "installing: greenlet-0.4.13-py36h14c3975_0 ...\n",
            "installing: heapdict-1.0.0-py36_2 ...\n",
            "installing: idna-2.6-py36h82fb2a8_1 ...\n",
            "installing: imagesize-1.0.0-py36_0 ...\n",
            "installing: ipython_genutils-0.2.0-py36hb52b0d5_0 ...\n",
            "installing: itsdangerous-0.24-py36h93cc618_1 ...\n",
            "installing: jdcal-1.4-py36_0 ...\n",
            "installing: kiwisolver-1.0.1-py36h764f252_0 ...\n",
            "installing: lazy-object-proxy-1.3.1-py36h10fcdad_0 ...\n",
            "installing: llvmlite-0.23.1-py36hdbcaa40_0 ...\n",
            "installing: locket-0.2.0-py36h787c0ad_1 ...\n",
            "installing: lxml-4.2.1-py36h23eabaa_0 ...\n",
            "installing: markupsafe-1.0-py36hd9260cd_1 ...\n",
            "installing: mccabe-0.6.1-py36h5ad9710_1 ...\n",
            "installing: mistune-0.8.3-py36h14c3975_1 ...\n",
            "installing: mkl-service-1.1.2-py36h17a0993_4 ...\n",
            "installing: mpmath-1.0.0-py36hfeacd6b_2 ...\n",
            "installing: msgpack-python-0.5.6-py36h6bb024c_0 ...\n",
            "installing: multipledispatch-0.5.0-py36_0 ...\n",
            "installing: numpy-base-1.14.3-py36h9be14a7_1 ...\n",
            "installing: olefile-0.45.1-py36_0 ...\n",
            "installing: pandocfilters-1.4.2-py36ha6701b7_1 ...\n",
            "installing: parso-0.2.0-py36_0 ...\n",
            "installing: path.py-11.0.1-py36_0 ...\n",
            "installing: pep8-1.7.1-py36_0 ...\n",
            "installing: pickleshare-0.7.4-py36h63277f8_0 ...\n",
            "installing: pkginfo-1.4.2-py36_1 ...\n",
            "installing: pluggy-0.6.0-py36hb689045_0 ...\n",
            "installing: ply-3.11-py36_0 ...\n",
            "installing: psutil-5.4.5-py36h14c3975_0 ...\n",
            "installing: ptyprocess-0.5.2-py36h69acd42_0 ...\n",
            "installing: py-1.5.3-py36_0 ...\n",
            "installing: pycodestyle-2.4.0-py36_0 ...\n",
            "installing: pycosat-0.6.3-py36h0a5515d_0 ...\n",
            "installing: pycparser-2.18-py36hf9f622e_1 ...\n",
            "installing: pycrypto-2.6.1-py36h14c3975_8 ...\n",
            "installing: pycurl-7.43.0.1-py36hb7f436b_0 ...\n",
            "installing: pyodbc-4.0.23-py36hf484d3e_0 ...\n",
            "installing: pyparsing-2.2.0-py36hee85983_1 ...\n",
            "installing: pysocks-1.6.8-py36_0 ...\n",
            "installing: pytz-2018.4-py36_0 ...\n",
            "installing: pyyaml-3.12-py36hafb9ca4_1 ...\n",
            "installing: pyzmq-17.0.0-py36h14c3975_0 ...\n",
            "installing: qt-5.9.5-h7e424d6_0 ...\n",
            "installing: qtpy-1.4.1-py36_0 ...\n",
            "installing: rope-0.10.7-py36h147e2ec_0 ...\n",
            "installing: ruamel_yaml-0.15.35-py36h14c3975_1 ...\n",
            "installing: send2trash-1.5.0-py36_0 ...\n",
            "installing: simplegeneric-0.8.1-py36_2 ...\n",
            "installing: sip-4.19.8-py36hf484d3e_0 ...\n",
            "installing: six-1.11.0-py36h372c433_1 ...\n",
            "installing: snowballstemmer-1.2.1-py36h6febd40_0 ...\n",
            "installing: sortedcontainers-1.5.10-py36_0 ...\n",
            "installing: sphinxcontrib-1.0-py36h6d0f590_1 ...\n",
            "installing: sqlalchemy-1.2.7-py36h6b74fdf_0 ...\n",
            "installing: tblib-1.3.2-py36h34cf8b6_0 ...\n",
            "installing: testpath-0.3.1-py36h8cadb63_0 ...\n",
            "installing: toolz-0.9.0-py36_0 ...\n",
            "installing: tornado-5.0.2-py36_0 ...\n",
            "installing: typing-3.6.4-py36_0 ...\n",
            "installing: unicodecsv-0.14.1-py36ha668878_0 ...\n",
            "installing: wcwidth-0.1.7-py36hdf4376a_0 ...\n",
            "installing: webencodings-0.5.1-py36h800622e_1 ...\n",
            "installing: werkzeug-0.14.1-py36_0 ...\n",
            "installing: wrapt-1.10.11-py36h28b7045_0 ...\n",
            "installing: xlrd-1.1.0-py36h1db9f0c_1 ...\n",
            "installing: xlsxwriter-1.0.4-py36_0 ...\n",
            "installing: xlwt-1.3.0-py36h7b00a1f_0 ...\n",
            "installing: babel-2.5.3-py36_0 ...\n",
            "installing: backports.shutil_get_terminal_size-1.0.0-py36hfea85ff_2 ...\n",
            "installing: cffi-1.11.5-py36h9745a5d_0 ...\n",
            "installing: conda-verify-2.0.0-py36h98955d8_0 ...\n",
            "installing: cycler-0.10.0-py36h93f1223_0 ...\n",
            "installing: cytoolz-0.9.0.1-py36h14c3975_0 ...\n",
            "installing: harfbuzz-1.7.6-h5f0a787_1 ...\n",
            "installing: html5lib-1.0.1-py36h2f9c1c0_0 ...\n",
            "installing: jedi-0.12.0-py36_1 ...\n",
            "installing: more-itertools-4.1.0-py36_0 ...\n",
            "installing: networkx-2.1-py36_0 ...\n",
            "installing: nltk-3.3.0-py36_0 ...\n",
            "installing: openpyxl-2.5.3-py36_0 ...\n",
            "installing: packaging-17.1-py36_0 ...\n",
            "installing: partd-0.3.8-py36h36fd896_0 ...\n",
            "installing: pathlib2-2.3.2-py36_0 ...\n",
            "installing: pexpect-4.5.0-py36_0 ...\n",
            "installing: pillow-5.1.0-py36h3deb7b8_0 ...\n",
            "installing: pyqt-5.9.2-py36h751905a_0 ...\n",
            "installing: python-dateutil-2.7.3-py36_0 ...\n",
            "installing: qtawesome-0.4.4-py36h609ed8c_0 ...\n",
            "installing: setuptools-39.1.0-py36_0 ...\n",
            "installing: singledispatch-3.4.0.3-py36h7a266c3_0 ...\n",
            "installing: sortedcollections-0.6.1-py36_0 ...\n",
            "installing: sphinxcontrib-websupport-1.0.1-py36hb5cb234_1 ...\n",
            "installing: sympy-1.1.1-py36hc6d1c1c_0 ...\n",
            "installing: terminado-0.8.1-py36_1 ...\n",
            "installing: traitlets-4.3.2-py36h674d592_0 ...\n",
            "installing: zict-0.1.3-py36h3a3bf81_0 ...\n",
            "installing: astroid-1.6.3-py36_0 ...\n",
            "installing: bleach-2.1.3-py36_0 ...\n",
            "installing: clyent-1.2.2-py36h7e57e65_1 ...\n",
            "installing: cryptography-2.2.2-py36h14c3975_0 ...\n",
            "installing: cython-0.28.2-py36h14c3975_0 ...\n",
            "installing: distributed-1.21.8-py36_0 ...\n",
            "installing: get_terminal_size-1.0.0-haa9412d_0 ...\n",
            "installing: gevent-1.3.0-py36h14c3975_0 ...\n",
            "installing: isort-4.3.4-py36_0 ...\n",
            "installing: jinja2-2.10-py36ha16c418_0 ...\n",
            "installing: jsonschema-2.6.0-py36h006f8b5_0 ...\n",
            "installing: jupyter_core-4.4.0-py36h7c827e3_0 ...\n",
            "installing: navigator-updater-0.2.1-py36_0 ...\n",
            "installing: nose-1.3.7-py36hcdf7029_2 ...\n",
            "installing: pango-1.41.0-hd475d92_0 ...\n",
            "installing: pyflakes-1.6.0-py36h7bd6a15_0 ...\n",
            "installing: pygments-2.2.0-py36h0d3125c_0 ...\n",
            "installing: pytest-3.5.1-py36_0 ...\n",
            "installing: wheel-0.31.1-py36_0 ...\n",
            "installing: flask-1.0.2-py36_1 ...\n",
            "installing: jupyter_client-5.2.3-py36_0 ...\n",
            "installing: nbformat-4.4.0-py36h31c9010_0 ...\n",
            "installing: pip-10.0.1-py36_0 ...\n",
            "installing: prompt_toolkit-1.0.15-py36h17d85b1_0 ...\n",
            "installing: pylint-1.8.4-py36_0 ...\n",
            "installing: pyopenssl-18.0.0-py36_0 ...\n",
            "installing: pytest-openfiles-0.3.0-py36_0 ...\n",
            "installing: pytest-remotedata-0.2.1-py36_0 ...\n",
            "installing: flask-cors-3.0.4-py36_0 ...\n",
            "installing: ipython-6.4.0-py36_0 ...\n",
            "installing: nbconvert-5.3.1-py36hb41ffb7_0 ...\n",
            "installing: urllib3-1.22-py36hbe7ace6_0 ...\n",
            "installing: ipykernel-4.8.2-py36_0 ...\n",
            "installing: requests-2.18.4-py36he2e5f8d_1 ...\n",
            "installing: anaconda-client-1.6.14-py36_0 ...\n",
            "installing: jupyter_console-5.2.0-py36he59e554_1 ...\n",
            "installing: notebook-5.5.0-py36_0 ...\n",
            "installing: qtconsole-4.3.1-py36h8f73b5b_0 ...\n",
            "installing: sphinx-1.7.4-py36_0 ...\n",
            "installing: anaconda-navigator-1.8.7-py36_0 ...\n",
            "installing: anaconda-project-0.8.2-py36h44fb852_0 ...\n",
            "installing: jupyterlab_launcher-0.10.5-py36_0 ...\n",
            "installing: numpydoc-0.8.0-py36_0 ...\n",
            "installing: widgetsnbextension-3.2.1-py36_0 ...\n",
            "installing: ipywidgets-7.2.1-py36_0 ...\n",
            "installing: jupyterlab-0.32.1-py36_0 ...\n",
            "installing: spyder-3.2.8-py36_0 ...\n",
            "installing: _ipyw_jlab_nb_ext_conf-0.1.0-py36he11e457_0 ...\n",
            "installing: jupyter-1.0.0-py36_4 ...\n",
            "installing: bokeh-0.12.16-py36_0 ...\n",
            "installing: bottleneck-1.2.1-py36haac1ea0_0 ...\n",
            "installing: conda-4.5.4-py36_0 ...\n",
            "installing: conda-build-3.10.5-py36_0 ...\n",
            "installing: datashape-0.5.4-py36h3ad6b5c_0 ...\n",
            "installing: h5py-2.7.1-py36ha1f6525_2 ...\n",
            "installing: imageio-2.3.0-py36_0 ...\n",
            "installing: matplotlib-2.2.2-py36h0e671d2_1 ...\n",
            "installing: mkl_fft-1.0.1-py36h3010b51_0 ...\n",
            "installing: mkl_random-1.0.1-py36h629b387_0 ...\n",
            "installing: numpy-1.14.3-py36hcd700cb_1 ...\n",
            "installing: numba-0.38.0-py36h637b7d7_0 ...\n",
            "installing: numexpr-2.6.5-py36h7bf3b9c_0 ...\n",
            "installing: pandas-0.23.0-py36h637b7d7_0 ...\n",
            "installing: pytest-arraydiff-0.2-py36_0 ...\n",
            "installing: pytest-doctestplus-0.1.3-py36_0 ...\n",
            "installing: pywavelets-0.5.2-py36he602eb0_0 ...\n",
            "installing: scipy-1.1.0-py36hfc37229_0 ...\n",
            "installing: bkcharts-0.2-py36h735825a_0 ...\n",
            "installing: dask-0.17.5-py36_0 ...\n",
            "installing: patsy-0.5.0-py36_0 ...\n",
            "installing: pytables-3.4.3-py36h02b9ad4_2 ...\n",
            "installing: pytest-astropy-0.3.0-py36_0 ...\n",
            "installing: scikit-learn-0.19.1-py36h7aa7ec6_0 ...\n",
            "installing: astropy-3.0.2-py36h3010b51_1 ...\n",
            "installing: odo-0.5.1-py36h90ed295_0 ...\n",
            "installing: scikit-image-0.13.1-py36h14c3975_1 ...\n",
            "installing: statsmodels-0.9.0-py36h3010b51_0 ...\n",
            "installing: blaze-0.11.3-py36h4e06776_0 ...\n",
            "installing: seaborn-0.8.1-py36hfad7ec4_0 ...\n",
            "installing: anaconda-5.2.0-py36_3 ...\n",
            "installation finished.\n",
            "WARNING:\n",
            "    You currently have a PYTHONPATH environment variable set. This may cause\n",
            "    unexpected behavior when running the Python interpreter in Anaconda3.\n",
            "    For best results, please verify that your PYTHONPATH only points to\n",
            "    directories of packages that are compatible with the Python interpreter\n",
            "    in Anaconda3: /usr/local\n"
          ],
          "name": "stdout"
        }
      ]
    },
    {
      "cell_type": "code",
      "metadata": {
        "id": "ETnlKjyeScla",
        "colab_type": "code",
        "outputId": "15a77891-4324-408c-ab6a-217ee3fb5eb5",
        "colab": {
          "base_uri": "https://localhost:8080/",
          "height": 130
        }
      },
      "source": [
        "conda create -n open-mmlab python=3.7 -y"
      ],
      "execution_count": 0,
      "outputs": [
        {
          "output_type": "error",
          "ename": "SyntaxError",
          "evalue": "ignored",
          "traceback": [
            "\u001b[0;36m  File \u001b[0;32m\"<ipython-input-26-e7aff9e4a147>\"\u001b[0;36m, line \u001b[0;32m1\u001b[0m\n\u001b[0;31m    conda create -n open-mmlab python=3.7 -y\u001b[0m\n\u001b[0m               ^\u001b[0m\n\u001b[0;31mSyntaxError\u001b[0m\u001b[0;31m:\u001b[0m invalid syntax\n"
          ]
        }
      ]
    },
    {
      "cell_type": "code",
      "metadata": {
        "id": "GKViNOk7TMaW",
        "colab_type": "code",
        "colab": {}
      },
      "source": [
        "!wget https://repo.continuum.io/miniconda/Miniconda3-4.5.4-Linux-x86_64.sh && bash Miniconda3-4.5.4-Linux-x86_64.sh -bfp /usr/local"
      ],
      "execution_count": 0,
      "outputs": []
    },
    {
      "cell_type": "code",
      "metadata": {
        "id": "U2z9hUymcUK4",
        "colab_type": "code",
        "colab": {}
      },
      "source": [
        "# All Imports \n",
        "\n",
        "import re\n",
        "import pandas as pd\n",
        "import numpy as np\n",
        "from pathlib import Path\n",
        "import mmcv\n",
        "from PIL import Image\n",
        "from tqdm import tqdm\n",
        "import albumentations as A\n",
        "from albumentations.pytorch import ToTensor\n",
        "import torch.utils.data\n",
        "from mmdet.core.bbox import bbox_overlaps"
      ],
      "execution_count": 0,
      "outputs": []
    },
    {
      "cell_type": "code",
      "metadata": {
        "id": "hbQgvSkx4s3_",
        "colab_type": "code",
        "colab": {}
      },
      "source": [
        "#unzip pictures in train \n",
        "\n",
        "import zipfile\n",
        "\n",
        "with zipfile.ZipFile('/content/kaggle/train_images.zip', 'r') as zip_ref:\n",
        "    zip_ref.extractall('/content/kaggle/train_images')\n",
        "\n",
        "with zipfile.ZipFile('/content/kaggle/test_images.zip', 'r') as zip_ref:\n",
        "    zip_ref.extractall('/content/kaggle/test_images')"
      ],
      "execution_count": 0,
      "outputs": []
    },
    {
      "cell_type": "code",
      "metadata": {
        "id": "TKKnV5oOgjzO",
        "colab_type": "code",
        "outputId": "9f4f670b-115b-48c5-8385-6150de592700",
        "colab": {
          "base_uri": "https://localhost:8080/",
          "height": 258
        }
      },
      "source": [
        "#All data imports \n",
        "\n",
        "train_set = pd.read_csv('/content/kaggle/train.csv.zip', compression='zip', header=0, sep=',', quotechar='\"', keep_default_na=False)\n",
        "#print(train_set.head())\n",
        "print(train_set[\"labels\"])\n",
        "unimap = pd.read_csv('/content/kaggle/unicode_translation.csv')\n",
        "sample_submiss = pd.read_csv('/content/kaggle/sample_submission.csv')\n",
        "img_dir = Path('/content/kaggle/train_images')\n",
        "img_dirTest = Path('/content/kaggle/test_images')\n",
        "print(os.listdir('/content/kaggle/train_images'))\n",
        "\n"
      ],
      "execution_count": 0,
      "outputs": [
        {
          "output_type": "stream",
          "text": [
            "0       U+306F 1231 3465 133 53 U+304C 275 1652 84 69 ...\n",
            "1       U+306F 1087 2018 103 65 U+304B 1456 1832 40 73...\n",
            "2       U+306F 572 1376 125 57 U+306E 1551 2080 69 68 ...\n",
            "3       U+3082 1455 3009 65 44 U+516B 1654 1528 141 75...\n",
            "4       U+309D 1201 2949 27 33 U+309D 1196 1539 27 36 ...\n",
            "                              ...                        \n",
            "3876    U+309D 426 456 30 34 U+306F 584 359 82 45 U+30...\n",
            "3877    U+30DE 677 327 68 35 U+3078 1424 463 110 43 U+...\n",
            "3878    U+309D 1582 802 16 34 U+306F 597 2337 72 42 U+...\n",
            "3879    U+4E00 1050 898 86 21 U+309D 724 1864 27 29 U+...\n",
            "3880                                                     \n",
            "Name: labels, Length: 3881, dtype: object\n",
            "['100249537_00046_2.jpg', 'hnsd009-040.jpg', '200004148_00045_2.jpg', '200021869-00015_2.jpg', 'hnsd002-001.jpg', 'umgy004-007.jpg', 'umgy008-032.jpg', '200021637-00019_1.jpg', '200021660-00043_1.jpg', '200021644_00020_1.jpg', '200015779_00043_1.jpg', 'umgy001-003.jpg', 'umgy011-019.jpg', '100249476_00006_1.jpg', '200004148_00030_2.jpg', '200015779_00024_1.jpg', 'hnsd005-026.jpg', '200015779_00070_1.jpg', '200021637-00005_2.jpg', '200015779_00074_1.jpg', 'hnsd010-021.jpg', '200021712-00027_1.jpg', 'hnsd006-028.jpg', '200015779_00064_1.jpg', 'hnsd010-010.jpg', '100249537_00024_1.jpg', 'umgy002-002.jpg', '100249416_00006_2.jpg', '200003967_00019_2.jpg', '100249476_00017_2.jpg', '200003076_00086_1.jpg', '200003076_00057_1.jpg', '200003076_00036_2.jpg', 'brsk004-035.jpg', '100249537_00006_2.jpg', '200022050-00014_1.jpg', '200003076_00150_2.jpg', '200021925-00005_1.jpg', '100249371_00013_1.jpg', '200015779_00098_2.jpg', '200022050-00009_2.jpg', 'umgy011-020.jpg', '200003076_00064_1.jpg', '200021660-00078_2.jpg', 'umgy002-038.jpg', '200021660-00051_2.jpg', 'hnsd003-022.jpg', 'brsk003-039.jpg', '200021853-00025_2.jpg', 'brsk001-028.jpg', '200021712-00078_1.jpg', 'umgy009-043.jpg', 'hnsd009-009.jpg', '200015779_00142_1.jpg', 'umgy003-001.jpg', '200021660-00007_2.jpg', '200021660-00004_2.jpg', '100249416_00003_2.jpg', '200005598_00037_1.jpg', '200014685-00005_2.jpg', '200004148_00074_2.jpg', '200006663_00003_2.jpg', '100249371_00026_1.jpg', '200003076_00147_1.jpg', '200014740-00071_1.jpg', '100249537_00084_2.jpg', '200021853-00027_1.jpg', '200021802-00035_1.jpg', '200003967_00039_1.jpg', '200021644_00040_2.jpg', '100249376_00026_1.jpg', '200021660-00063_1.jpg', '200003076_00120_1.jpg', '200021763-00015_2.jpg', '200021763-00023_1.jpg', 'brsk005-035.jpg', 'umgy004-037.jpg', 'hnsd002-019.jpg', 'umgy011-017.jpg', '100249537_00021_2.jpg', '200015779_00036_2.jpg', '200021660-00008_1.jpg', '200021869-00009_2.jpg', '200021851_00012_1.jpg', '200003076_00149_2.jpg', '100249371_00029_1.jpg', '200021644_00034_1.jpg', '200015779_00102_1.jpg', 'umgy009-016.jpg', '200021802-00024_2.jpg', '200021712-00039_1.jpg', '200021925-00014_2.jpg', '100249376_00004_1.jpg', '200003076_00114_1.jpg', 'brsk001-002.jpg', '100241706_00009_1.jpg', 'brsk003-036.jpg', '100249537_00072_2.jpg', '200003076_00011_1.jpg', '200004148_00076_1.jpg', 'umgy009-020.jpg', '200003967_00008_2.jpg', 'hnsd008-019.jpg', 'umgy009-019.jpg', 'umgy006-020.jpg', 'umgy010-041.jpg', 'umgy001-028.jpg', 'umgy002-010.jpg', '200021763-00042_2.jpg', 'hnsd007-019.jpg', 'hnsd006-027.jpg', '200014740-00067_1.jpg', 'umgy003-004.jpg', '100249537_00055_1.jpg', '200015779_00140_1.jpg', 'hnsd005-032.jpg', 'umgy001-024.jpg', '200004148_00011_2.jpg', '200005598_00010_1.jpg', '200003076_00030_1.jpg', '200021712-00015_1.jpg', '200003967_00006_1.jpg', '200021763-00005_1.jpg', 'brsk002-027.jpg', '100249537_00030_2.jpg', '200003076_00050_2.jpg', 'brsk002-054.jpg', 'umgy004-028.jpg', '100249376_00035_2.jpg', 'brsk003-017.jpg', 'hnsd005-033.jpg', '100249376_00034_2.jpg', 'hnsd005-014.jpg', '200003076_00132_2.jpg', 'umgy012-002.jpg', '200021851_00028_1.jpg', 'hnsd012-038.jpg', '100249371_00017_2.jpg', '200015779_00059_1.jpg', 'umgy008-005.jpg', 'umgy001-007.jpg', 'hnsd001-007.jpg', 'umgy010-016.jpg', 'hnsd009-004.jpg', '100249537_00033_1.jpg', '200003076_00112_1.jpg', 'brsk002-023.jpg', 'hnsd004-032.jpg', '200005598_00003_2.jpg', '200003967_00012_2.jpg', '200021853-00038_2.jpg', 'hnsd008-024.jpg', '100249371_00033_1.jpg', '100249371_00030_1.jpg', '100249416_00023_2.jpg', '200003076_00071_2.jpg', 'brsk002-061.jpg', '100249376_00042_2.jpg', '100249537_00037_2.jpg', '200021712-00071_2.jpg', '200014740-00020_2.jpg', '100249416_00023_1.jpg', 'umgy012-026.jpg', '200021637-00017_1.jpg', '100249416_00022_2.jpg', '100249416_00021_1.jpg', '200014685-00025_2.jpg', '100249416_00015_1.jpg', 'hnsd005-008.jpg', '100241706_00030_1.jpg', 'hnsd003-011.jpg', '200021712-00080_2.jpg', 'hnsd006-010.jpg', 'hnsd012-026.jpg', '100249537_00030_1.jpg', 'hnsd006-015.jpg', '200015779_00147_1.jpg', 'umgy003-030.jpg', 'umgy010-002.jpg', '200003967_00033_1.jpg', 'hnsd004-046.jpg', '200015779_00159_2.jpg', '200015779_00122_1.jpg', '200021712-00060_2.jpg', '200005598_00011_2.jpg', 'hnsd001-028.jpg', '200003076_00004_2.jpg', 'hnsd008-025.jpg', '200015779_00047_1.jpg', '100249371_00010_1.jpg', '200015779_00101_2.jpg', '200021851_00006_2.jpg', '200003076_00160_1.jpg', 'hnsd011-009.jpg', '200021802-00047_1.jpg', '200014740-00059_2.jpg', '200015779_00056_1.jpg', '100249537_00004_1.jpg', '200021712-00005_2.jpg', 'brsk003-041.jpg', '100249476_00008_2.jpg', '200015779_00114_2.jpg', '200003967_00047_1.jpg', 'umgy004-039.jpg', 'hnsd007-016.jpg', '200015779_00148_1.jpg', 'umgy010-037.jpg', '200003076_00165_1.jpg', 'umgy008-007.jpg', '200015779_00107_2.jpg', 'hnsd003-004.jpg', '200004148_00057_1.jpg', '200021712-00026_2.jpg', 'umgy008-018.jpg', '200003076_00011_2.jpg', '200014740-00060_2.jpg', '200021644_00009_2.jpg', '100249476_00008_1.jpg', '100249376_00056_1.jpg', '200021763-00024_2.jpg', '100249376_00016_2.jpg', '200004148_00054_2.jpg', '200003967_00024_1.jpg', '200021660-00089_1.jpg', '200005598_00035_2.jpg', 'brsk004-028.jpg', 'umgy006-033.jpg', '200021712-00062_1.jpg', '100249537_00058_1.jpg', '200003076_00010_1.jpg', 'hnsd004-031.jpg', '200021660-00011_2.jpg', 'umgy010-022.jpg', '200021712-00050_2.jpg', '200021925-00016_1.jpg', '200021712-00042_1.jpg', '200021851_00025_2.jpg', 'hnsd002-005.jpg', '100249476_00011_1.jpg', 'hnsd007-020.jpg', '200014740-00041_2.jpg', 'hnsd002-011.jpg', '200021802-00044_1.jpg', '200021925-00003_2.jpg', '100249537_00054_1.jpg', '200015779_00021_2.jpg', '200021925-00017_2.jpg', '200004148_00070_1.jpg', 'umgy008-008.jpg', '200014740-00022_2.jpg', '100249416_00031_1.jpg', '100249537_00086_1.jpg', '200021853-00014_1.jpg', '200003076_00006_1.jpg', '100249416_00004_1.jpg', 'umgy011-010.jpg', '200014740-00051_1.jpg', '200003076_00175_1.jpg', 'brsk004-032.jpg', '200021660-00089_2.jpg', '200021763-00016_1.jpg', 'brsk002-039.jpg', '200014740-00067_2.jpg', '200014685-00008_2.jpg', 'umgy004-003.jpg', 'hnsd006-035.jpg', '100241706_00013_2.jpg', '200003076_00075_1.jpg', 'umgy011-009.jpg', 'hnsd006-030.jpg', 'umgy003-013.jpg', '200021763-00017_2.jpg', '200015779_00143_2.jpg', '200015779_00086_1.jpg', '200021802-00009_2.jpg', 'brsk005-016.jpg', '100249537_00028_1.jpg', '200021660-00017_2.jpg', 'hnsd007-007.jpg', '200021763-00004_1.jpg', '200021712-00024_2.jpg', '200003967_00018_2.jpg', 'brsk001-004.jpg', 'brsk003-038.jpg', 'hnsd007-011.jpg', 'hnsd011-026.jpg', 'umgy011-028.jpg', '200014685-00010_2.jpg', '200003076_00124_2.jpg', '200015779_00149_2.jpg', 'umgy010-034.jpg', '200003076_00024_2.jpg', '100241706_00007_2.jpg', '200021853-00031_2.jpg', '200003076_00162_1.jpg', '200005598_00040_1.jpg', '200021660-00056_2.jpg', '100249376_00010_1.jpg', 'umgy004-011.jpg', 'hnsd006-031.jpg', 'brsk005-023.jpg', '200014685-00017_1.jpg', '200015779_00047_2.jpg', '200021637-00015_1.jpg', 'umgy005-025.jpg', 'umgy010-035.jpg', 'umgy010-028.jpg', '200003076_00118_2.jpg', '200021660-00013_1.jpg', '100249476_00028_1.jpg', 'hnsd007-037.jpg', '200014685-00032_1.jpg', '200014685-00003_2.jpg', '100249371_00015_1.jpg', '100249476_00017_1.jpg', '200004148_00081_1.jpg', '200021660-00074_2.jpg', '100249376_00033_2.jpg', '200021763-00009_1.jpg', 'hnsd003-035.jpg', 'hnsd001-033.jpg', '200015779_00099_2.jpg', 'umgy009-021.jpg', 'hnsd009-017.jpg', '100249416_00007_1.jpg', 'hnsd010-045.jpg', '200021763-00030_1.jpg', 'brsk002-010.jpg', 'brsk002-025.jpg', '200005598_00029_2.jpg', 'brsk004-025.jpg', 'hnsd007-049.jpg', '200003967_00045_2.jpg', '200005598_00022_2.jpg', '200003967_00029_2.jpg', '100249537_00058_2.jpg', 'hnsd010-014.jpg', '200014740-00030_2.jpg', 'hnsd008-008.jpg', 'umgy009-001.jpg', '200021644_00042_1.jpg', '200003076_00176_2.jpg', '200004148_00023_2.jpg', '100241706_00018_2.jpg', '200015779_00088_2.jpg', 'hnsd010-017.jpg', 'umgy008-037.jpg', '100249476_00027_2.jpg', '200021763-00024_1.jpg', '200014740-00012_2.jpg', '200021712-00050_1.jpg', '200014740-00072_2.jpg', '200021660-00073_1.jpg', 'brsk005-004.jpg', '200021869-00011_2.jpg', '200021853-00033_1.jpg', '100249476_00027_1.jpg', '200015779_00018_1.jpg', '200014740-00010_1.jpg', 'hnsd004-014.jpg', '200003076_00095_2.jpg', '200021853-00021_1.jpg', '100249537_00068_2.jpg', 'brsk002-037.jpg', 'hnsd004-045.jpg', '200004148_00060_1.jpg', '200021802-00015_2.jpg', 'hnsd002-030.jpg', '200003076_00069_1.jpg', 'umgy007-040.jpg', '200021644_00022_2.jpg', '100249371_00012_2.jpg', '200015779_00060_2.jpg', '200004148_00055_1.jpg', '200021925-00019_2.jpg', '200021763-00047_1.jpg', '200021925-00008_2.jpg', '200014740-00089_2.jpg', 'hnsd001-010.jpg', '200021712-00083_1.jpg', '200021660-00024_2.jpg', '200015779_00033_2.jpg', 'umgy006-010.jpg', 'hnsd012-019.jpg', '200021660-00007_1.jpg', '100249371_00030_2.jpg', 'umgy009-039.jpg', '100249537_00063_2.jpg', '200014740-00011_1.jpg', '200021763-00038_1.jpg', '100249537_00082_2.jpg', '100249537_00019_1.jpg', '200003076_00142_2.jpg', '200021853-00034_1.jpg', '200021853-00009_2.jpg', 'umgy005-006.jpg', 'hnsd005-007.jpg', '200003967_00037_1.jpg', '200003076_00130_1.jpg', 'umgy010-012.jpg', '100249537_00042_1.jpg', '200003076_00068_1.jpg', '200021644_00013_1.jpg', '200004148_00061_2.jpg', '200021851_00008_2.jpg', '200003076_00073_2.jpg', '200021853-00021_2.jpg', 'hnsd006-006.jpg', 'hnsd010-013.jpg', 'hnsd012-040.jpg', '200014740-00033_1.jpg', 'brsk002-029.jpg', '200014740-00049_2.jpg', '200021851_00023_2.jpg', '200005598_00011_1.jpg', '200022050-00013_1.jpg', 'umgy004-031.jpg', '200021660-00090_1.jpg', 'hnsd006-036.jpg', '200014740-00071_2.jpg', 'hnsd010-034.jpg', '200021712-00052_1.jpg', 'hnsd012-007.jpg', '200006663_00005_2.jpg', '200021660-00045_2.jpg', '200021712-00046_1.jpg', '200021712-00028_1.jpg', 'umgy008-025.jpg', '100241706_00026_1.jpg', '200021853-00017_1.jpg', '100249376_00038_1.jpg', '100241706_00033_2.jpg', 'hnsd003-024.jpg', '200021712-00031_1.jpg', '200003076_00134_2.jpg', 'hnsd011-037.jpg', '200021802-00056_1.jpg', '200004148_00040_2.jpg', 'hnsd005-001.jpg', '200021637-00012_2.jpg', '200021644_00034_2.jpg', '200021763-00025_1.jpg', 'umgy006-016.jpg', '200014740-00081_1.jpg', '200003076_00087_1.jpg', 'hnsd002-009.jpg', '200005598_00045_2.jpg', '200021660-00061_1.jpg', '200003076_00109_1.jpg', '200003967_00045_1.jpg', '100249416_00010_2.jpg', 'hnsd007-029.jpg', '200003076_00165_2.jpg', '200003076_00155_2.jpg', 'umgy008-019.jpg', 'brsk002-004.jpg', '200021712-00009_2.jpg', '200021869-00003_1.jpg', '200021712-00030_1.jpg', '200021644_00029_1.jpg', 'umgy001-035.jpg', '200021660-00087_1.jpg', 'brsk005-024.jpg', 'umgy010-004.jpg', '200003076_00058_2.jpg', '200021853-00004_1.jpg', '200021802-00004_2.jpg', '100249537_00067_2.jpg', '200015779_00093_2.jpg', 'umgy012-042.jpg', '200021644_00014_2.jpg', 'umgy005-028.jpg', 'hnsd007-041.jpg', '200015779_00064_2.jpg', 'umgy011-002.jpg', '200021660-00078_1.jpg', 'umgy011-012.jpg', 'umgy011-004.jpg', '200021660-00072_2.jpg', 'hnsd012-032.jpg', '200014685-00023_1.jpg', 'umgy003-008.jpg', '100241706_00037_2.jpg', '100241706_00008_1.jpg', 'umgy003-021.jpg', '200004148_00092_1.jpg', '100249376_00041_1.jpg', 'hnsd011-004.jpg', '200021712-00054_1.jpg', 'umgy007-023.jpg', 'hnsd006-002.jpg', 'umgy003-037.jpg', '200003076_00111_1.jpg', '200021763-00002_2.jpg', '100241706_00026_2.jpg', '200021869-00017_2.jpg', '200004148_00068_2.jpg', 'hnsd002-008.jpg', '200014740-00038_2.jpg', '200015779_00113_2.jpg', '200015779_00135_2.jpg', 'umgy003-010.jpg', 'umgy001-043.jpg', 'umgy012-001.jpg', '200021925-00012_2.jpg', '200005598_00015_1.jpg', '100249537_00066_2.jpg', '200015779_00119_2.jpg', 'umgy002-024.jpg', '100241706_00021_1.jpg', '100249537_00005_2.jpg', '200005598_00031_1.jpg', '200021763-00013_2.jpg', '200021660-00062_2.jpg', '100249537_00029_2.jpg', '100249376_00013_1.jpg', '200015779_00090_2.jpg', '200015779_00051_2.jpg', '200021660-00019_1.jpg', '200021660-00041_2.jpg', 'umgy009-027.jpg', '200003076_00113_2.jpg', 'hnsd010-039.jpg', '200021802-00018_2.jpg', '200014740-00073_2.jpg', '200003967_00007_1.jpg', '100249476_00019_2.jpg', '100241706_00031_2.jpg', '200021712-00006_1.jpg', 'umgy010-021.jpg', 'brsk005-040.jpg', '200021637-00009_2.jpg', '200021802-00029_1.jpg', 'umgy003-034.jpg', '200021644_00024_1.jpg', 'umgy003-020.jpg', '200021802-00010_1.jpg', '200003076_00118_1.jpg', '200015779_00112_1.jpg', '200021763-00012_2.jpg', '200021853-00013_2.jpg', 'brsk003-044.jpg', 'hnsd010-019.jpg', 'hnsd008-035.jpg', '200021802-00042_2.jpg', '200015779_00133_1.jpg', '200003076_00079_2.jpg', '200003967_00021_1.jpg', '100249371_00013_2.jpg', '200005598_00049_2.jpg', '100249416_00027_2.jpg', '200021712-00035_2.jpg', '100249537_00029_1.jpg', '100241706_00031_1.jpg', '200021712-00011_1.jpg', 'brsk002-051.jpg', 'hnsd010-027.jpg', '200003076_00101_1.jpg', '200014740-00014_2.jpg', 'hnsd002-039.jpg', '200021851_00004_1.jpg', '200005598_00030_2.jpg', 'hnsd005-010.jpg', '200021853-00031_1.jpg', 'brsk002-044.jpg', '200015779_00085_1.jpg', '200021660-00094_1.jpg', '200014740-00053_1.jpg', 'hnsd001-019.jpg', 'hnsd005-011.jpg', '200014740-00060_1.jpg', '200003967_00035_2.jpg', '100241706_00027_2.jpg', 'umgy002-029.jpg', 'umgy005-016.jpg', '200005598_00024_1.jpg', 'umgy012-041.jpg', '200021712-00072_1.jpg', '200015779_00103_2.jpg', '200003967_00035_1.jpg', '200021660-00024_1.jpg', '200003076_00049_1.jpg', '200021712-00078_2.jpg', '200015779_00026_1.jpg', '200015779_00106_1.jpg', 'umgy007-010.jpg', '100249376_00009_2.jpg', '100249476_00002_2.jpg', '200014740-00023_1.jpg', 'hnsd002-036.jpg', '200003076_00063_1.jpg', 'hnsd008-012.jpg', '100249376_00007_2.jpg', '100249376_00046_1.jpg', '200015779_00068_1.jpg', 'umgy006-007.jpg', 'hnsd005-016.jpg', 'umgy006-022.jpg', 'brsk004-017.jpg', '200004148_00016_2.jpg', 'brsk003-037.jpg', '200022050-00010_2.jpg', '200021802-00003_2.jpg', '200004148_00058_2.jpg', '200021712-00013_1.jpg', '200021660-00009_1.jpg', '200021853-00029_1.jpg', '200003076_00123_1.jpg', '200015779_00019_2.jpg', '200014740-00080_1.jpg', 'brsk005-002.jpg', '100249416_00025_2.jpg', '200014740-00045_2.jpg', '100249416_00016_2.jpg', '100249537_00085_2.jpg', 'brsk004-021.jpg', 'hnsd007-046.jpg', 'umgy005-001.jpg', '200003076_00153_1.jpg', '200021712-00058_2.jpg', '100249476_00012_1.jpg', 'hnsd003-041.jpg', 'umgy012-034.jpg', 'umgy005-019.jpg', '100249371_00024_1.jpg', '100241706_00019_1.jpg', '200003076_00138_2.jpg', '200003076_00060_1.jpg', 'hnsd012-031.jpg', 'brsk003-045.jpg', '100249376_00018_2.jpg', '200015779_00099_1.jpg', '200015779_00105_2.jpg', '100249537_00028_2.jpg', '200015779_00032_2.jpg', 'umgy008-010.jpg', '200015779_00105_1.jpg', '100249376_00020_2.jpg', '200022050-00013_2.jpg', '200021660-00028_2.jpg', '200004148_00011_1.jpg', 'umgy001-037.jpg', 'umgy001-008.jpg', '200021802-00036_2.jpg', 'umgy003-018.jpg', '200014740-00075_2.jpg', '200003076_00057_2.jpg', '200021712-00029_2.jpg', 'hnsd009-024.jpg', 'brsk002-008.jpg', '200021853-00034_2.jpg', '100241706_00038_1.jpg', '100249416_00002_2.jpg', '200014740-00041_1.jpg', '200003076_00048_1.jpg', 'hnsd009-010.jpg', '100241706_00010_1.jpg', 'hnsd005-031.jpg', '200021644_00024_2.jpg', 'umgy007-006.jpg', 'umgy009-042.jpg', '200015779_00058_2.jpg', '200021853-00012_2.jpg', 'hnsd002-020.jpg', 'hnsd002-033.jpg', 'umgy001-023.jpg', '200021763-00022_1.jpg', '200021853-00011_1.jpg', '100249371_00014_2.jpg', '200021802-00028_2.jpg', 'brsk002-024.jpg', '200021712-00005_1.jpg', 'hnsd005-029.jpg', 'hnsd010-044.jpg', '200015779_00063_2.jpg', '200014740-00063_2.jpg', '200014740-00068_1.jpg', '200003076_00146_1.jpg', 'hnsd011-015.jpg', '100241706_00028_1.jpg', '200014740-00019_1.jpg', '100241706_00033_1.jpg', '200021763-00036_1.jpg', '200021712-00039_2.jpg', '200021802-00015_1.jpg', 'umgy002-013.jpg', '200003076_00119_1.jpg', 'hnsd005-038.jpg', '100249476_00023_1.jpg', 'hnsd009-027.jpg', '200021802-00038_1.jpg', '100249476_00004_1.jpg', '200004148_00019_2.jpg', '200004148_00075_2.jpg', 'hnsd004-005.jpg', '200003076_00102_1.jpg', '200014740-00008_1.jpg', '200014740-00077_2.jpg', '200004148_00041_1.jpg', 'brsk001-037.jpg', '200015779_00053_1.jpg', 'hnsd010-043.jpg', '100241706_00014_2.jpg', '200021763-00006_2.jpg', 'hnsd003-002.jpg', '200015779_00088_1.jpg', '200003076_00069_2.jpg', 'hnsd005-024.jpg', '200003076_00041_2.jpg', 'hnsd011-031.jpg', '200021712-00040_1.jpg', '200003076_00159_2.jpg', 'brsk004-027.jpg', 'hnsd007-032.jpg', 'hnsd008-022.jpg', '200022050-00016.jpg', '200003076_00061_2.jpg', '200004148_00038_1.jpg', '200021712-00045_2.jpg', '200003076_00152_1.jpg', '200014685-00030_1.jpg', '200003076_00012_2.jpg', 'umgy006-006.jpg', 'umgy005-034.jpg', '200003076_00094_2.jpg', '200021853-00018_2.jpg', '100241706_00010_2.jpg', '200021712-00016_2.jpg', 'hnsd002-024.jpg', '200004148_00088_1.jpg', 'umgy010-020.jpg', '100249376_00014_2.jpg', 'umgy006-002.jpg', 'hnsd012-033.jpg', '200003076_00143_1.jpg', '200021637-00003_2.jpg', 'umgy009-038.jpg', '200021802-00040_2.jpg', '200014740-00014_1.jpg', '100249371_00031_1.jpg', 'brsk005-029.jpg', '200021644_00036_1.jpg', '200015779_00157_1.jpg', 'hnsd001-016.jpg', '100249476_00009_1.jpg', '100249376_00003_2.jpg', '200003076_00131_2.jpg', '100249537_00090_1.jpg', 'hnsd012-020.jpg', '200003076_00040_2.jpg', 'umgy010-011.jpg', '200021660-00088_1.jpg', '100249537_00040_1.jpg', '200003076_00140_1.jpg', '100249416_00003_1.jpg', '200004148_00014_1.jpg', 'hnsd005-027.jpg', '200021802-00027_1.jpg', '200021637-00013_1.jpg', '200021712-00067_2.jpg', 'umgy001-016.jpg', '200021660-00019_2.jpg', '200003076_00161_1.jpg', '100241706_00037_1.jpg', 'umgy011-015.jpg', 'hnsd008-040.jpg', '100249376_00002_1.jpg', '200014740-00013_1.jpg', '200003076_00019_1.jpg', '200004148_00018_1.jpg', '200005598_00005_1.jpg', '100249537_00009_1.jpg', '200021660-00052_1.jpg', 'brsk002-032.jpg', '200021851_00015_1.jpg', 'umgy001-002.jpg', '200021851_00029_2.jpg', 'umgy004-026.jpg', '200021853-00028_2.jpg', '200003076_00061_1.jpg', '200003076_00023_2.jpg', '100249371_00011_2.jpg', 'hnsd008-009.jpg', 'hnsd012-001.jpg', 'brsk002-016.jpg', '200021712-00033_1.jpg', '100249537_00041_1.jpg', 'umgy001-051.jpg', '200015779_00007_1.jpg', '200014685-00026_1.jpg', '200004148_00035_1.jpg', '100249371_00012_1.jpg', '100249537_00066_1.jpg', '200003967_00032_1.jpg', 'umgy009-006.jpg', 'hnsd008-033.jpg', 'brsk003-029.jpg', '200015779_00084_1.jpg', 'hnsd002-038.jpg', 'umgy011-023.jpg', '200015779_00161_2.jpg', 'umgy003-015.jpg', 'umgy007-027.jpg', 'hnsd007-008.jpg', '100241706_00018_1.jpg', '200003076_00131_1.jpg', '200014685-00015_1.jpg', '200014685-00026_2.jpg', '200004148_00089_1.jpg', 'umgy009-031.jpg', '200014740-00090_1.jpg', 'brsk003-018.jpg', '200021925-00004_1.jpg', '200003967_00037_2.jpg', '200014740-00038_1.jpg', '200006663_00002_1.jpg', 'brsk001-017.jpg', '200021925-00004_2.jpg', '200014740-00046_1.jpg', '100249376_00047_2.jpg', '200021763-00034_2.jpg', '200003076_00046_1.jpg', 'hnsd008-031.jpg', 'brsk004-016.jpg', '200021712-00082_2.jpg', '200005598_00036_1.jpg', '200021802-00019_2.jpg', '100249537_00015_2.jpg', '200021853-00035_1.jpg', 'umgy004-029.jpg', '200014740-00042_1.jpg', '200021712-00061_2.jpg', '200004148_00040_1.jpg', '100249371_00009_1.jpg', '200021660-00052_2.jpg', 'hnsd007-005.jpg', '100241706_00023_1.jpg', '200004148_00087_1.jpg', '200003967_00041_2.jpg', '200021712-00056_1.jpg', '200021712-00015_2.jpg', 'brsk003-020.jpg', '200014740-00072_1.jpg', '200005598_00028_1.jpg', 'umgy004-041.jpg', '200015779_00054_2.jpg', '200003076_00042_2.jpg', '200014740-00054.jpg', '100249416_00018_1.jpg', '200021712-00037_1.jpg', 'umgy003-027.jpg', '200021660-00046_1.jpg', '200004148_00065_2.jpg', 'umgy007-042.jpg', '200021637-00013_2.jpg', 'hnsd007-023.jpg', '100249537_00043_2.jpg', '200003076_00056_1.jpg', 'umgy001-030.jpg', '200021869-00019.jpg', 'umgy009-017.jpg', '200015779_00160_2.jpg', 'umgy001-029.jpg', 'umgy002-020.jpg', 'umgy010-029.jpg', 'hnsd001-021.jpg', 'umgy002-040.jpg', '200004148_00012_2.jpg', '200014685-00020_1.jpg', 'hnsd008-030.jpg', '200021660-00081_1.jpg', '200015779_00060_1.jpg', '200021712-00007_2.jpg', '200004148_00044_2.jpg', '200021660-00048_2.jpg', '200003076_00113_1.jpg', 'umgy003-005.jpg', 'umgy007-008.jpg', '200004148_00041_2.jpg', '200021712-00081_1.jpg', '200003076_00115_1.jpg', '200021712-00010_1.jpg', '100249416_00029_1.jpg', '200003076_00026_2.jpg', '200003076_00074_1.jpg', '100249537_00060_1.jpg', '200022050-00005_1.jpg', '200003967_00034_2.jpg', '200021851_00004_2.jpg', '200003076_00137_2.jpg', 'umgy001-010.jpg', 'umgy004-015.jpg', '200003076_00093_2.jpg', '200021712-00032_2.jpg', '200021851_00016_1.jpg', 'umgy001-044.jpg', '200003076_00148_2.jpg', '200021660-00026_2.jpg', 'brsk005-032.jpg', '200021802-00018_1.jpg', '200005598_00036_2.jpg', '100249376_00050_1.jpg', '200003967_00025_2.jpg', 'umgy011-034.jpg', '200021869-00017_1.jpg', '200021644_00005_1.jpg', '200004148_00025_2.jpg', '200015779_00146_2.jpg', '200004148_00062_1.jpg', '200021660-00037_2.jpg', '200004148_00054_1.jpg', '200014740-00008_2.jpg', 'hnsd012-006.jpg', '200003076_00099_1.jpg', 'hnsd002-006.jpg', 'hnsd009-026.jpg', '200003967_00011_1.jpg', '100249371_00020_1.jpg', 'brsk002-031.jpg', 'hnsd003-019.jpg', 'brsk002-049.jpg', 'hnsd006-023.jpg', '200021869-00013_2.jpg', '100249537_00020_2.jpg', 'brsk001-013.jpg', 'hnsd004-024.jpg', 'hnsd010-023.jpg', '200021637-00016_1.jpg', 'hnsd008-039.jpg', '100249416_00002_1.jpg', 'umgy012-036.jpg', '200004148_00056_2.jpg', '200003076_00031_1.jpg', 'hnsd008-032.jpg', '200003076_00101_2.jpg', '200015779_00138_1.jpg', '200021763-00011_2.jpg', '200003967_00015_2.jpg', 'hnsd007-018.jpg', 'umgy001-021.jpg', 'hnsd009-038.jpg', 'hnsd007-048.jpg', '200014685-00013_2.jpg', '200021853-00026_1.jpg', '200021763-00045_1.jpg', 'hnsd010-049.jpg', '100249371_00019_2.jpg', '200021637-00008_2.jpg', '200021853-00036_1.jpg', '200021853-00014_2.jpg', '200015779_00049_2.jpg', 'umgy002-007.jpg', 'hnsd005-039.jpg', '100249537_00023_1.jpg', '200021712-00070_1.jpg', 'umgy004-025.jpg', 'umgy007-012.jpg', '200021660-00053_1.jpg', '200021712-00065_2.jpg', 'umgy010-044.jpg', '200014740-00082_2.jpg', 'umgy012-035.jpg', '200021851_00029_1.jpg', '200015779_00020_1.jpg', '200004148_00042_1.jpg', 'umgy012-037.jpg', '100249416_00029_2.jpg', 'brsk002-009.jpg', '200015779_00145_2.jpg', 'brsk004-015.jpg', 'hnsd001-018.jpg', 'brsk005-043.jpg', '200021763-00047_2.jpg', '200003076_00045_1.jpg', 'hnsd006-004.jpg', 'hnsd002-016.jpg', '200021712-00008_1.jpg', '200021644_00006_1.jpg', 'umgy012-029.jpg', '200004148_00053_1.jpg', '200021869-00006_2.jpg', 'umgy011-027.jpg', '200003076_00010_2.jpg', '100249371_00008_1.jpg', 'umgy002-030.jpg', '200021763-00042_1.jpg', '200015779_00058_1.jpg', 'hnsd012-013.jpg', '200021763-00003_1.jpg', '200021660-00003_2.jpg', '200014740-00076_2.jpg', '100249537_00008_2.jpg', 'umgy008-034.jpg', '100249371_00014_1.jpg', 'umgy012-020.jpg', '200022050-00003_2.jpg', '100249476_00010_2.jpg', '200021644_00035_1.jpg', '200021925-00006_1.jpg', 'umgy001-050.jpg', '100249537_00063_1.jpg', '200021637-00014_1.jpg', 'brsk005-027.jpg', '200021660-00033_1.jpg', '200021712-00057_1.jpg', 'umgy012-027.jpg', '200021763-00032_1.jpg', 'brsk003-003.jpg', '200005598_00009_2.jpg', 'hnsd010-046.jpg', '200003967_00032_2.jpg', '200021925-00020_2.jpg', '200004148_00049_1.jpg', 'brsk001-016.jpg', '200021853-00003_1.jpg', '200003076_00162_2.jpg', '200021853-00041.jpg', 'brsk004-005.jpg', 'brsk005-010.jpg', 'brsk002-013.jpg', 'hnsd008-021.jpg', '200004148_00029_1.jpg', '200014685-00022_1.jpg', '200014740-00009_1.jpg', '100249416_00018_2.jpg', '200021660-00026_1.jpg', 'brsk001-022.jpg', '100249476_00021_2.jpg', '200021644_00025_1.jpg', '200021660-00030_2.jpg', 'hnsd012-028.jpg', '200015779_00120_2.jpg', '200015779_00011_2.jpg', 'brsk002-041.jpg', '200005598_00030_1.jpg', '200003076_00106_1.jpg', 'hnsd012-037.jpg', 'brsk005-005.jpg', '200014685-00015_2.jpg', 'brsk003-034.jpg', 'hnsd001-027.jpg', 'brsk002-057.jpg', '100249376_00048_2.jpg', '200014740-00074_1.jpg', 'hnsd003-039.jpg', '200021712-00051_2.jpg', '200021925-00005_2.jpg', 'umgy010-007.jpg', '100249376_00004_2.jpg', 'hnsd003-010.jpg', '200004148_00004_2.jpg', '100249537_00084_1.jpg', 'umgy002-027.jpg', '200006663_00005_1.jpg', '200021925-00023_1.jpg', '200021660-00051_1.jpg', '200003076_00137_1.jpg', '200003076_00148_1.jpg', '200003076_00119_2.jpg', '200021644_00017_1.jpg', '200014740-00064_1.jpg', '200015779_00006_2.jpg', '200015779_00145_1.jpg', '200004148_00048_2.jpg', 'brsk004-031.jpg', '100249537_00015_1.jpg', '200021802-00023_1.jpg', 'hnsd007-017.jpg', '200003076_00110_2.jpg', '200004148_00086_2.jpg', '200003076_00154_1.jpg', 'brsk002-019.jpg', '200003076_00177_1.jpg', '200003076_00050_1.jpg', '200003076_00005_1.jpg', '200015779_00038_2.jpg', '200014685-00019_1.jpg', 'hnsd006-007.jpg', '100249371_00002_2.jpg', 'umgy009-036.jpg', '200021712-00072_2.jpg', '100249537_00088_1.jpg', 'umgy006-032.jpg', '200021644_00030_2.jpg', 'hnsd009-018.jpg', '100249476_00002_1.jpg', '200021763-00035_1.jpg', '200014740-00035_2.jpg', '200003076_00044_1.jpg', '100241706_00016_2.jpg', 'hnsd006-005.jpg', '100249376_00051_1.jpg', 'hnsd011-017.jpg', 'hnsd003-037.jpg', '200003076_00136_2.jpg', '200003967_00010_1.jpg', 'umgy004-008.jpg', 'hnsd008-006.jpg', '200021660-00054_2.jpg', '200021637-00012_1.jpg', '200003076_00065_2.jpg', '100249376_00055_2.jpg', '200021763-00012_1.jpg', '200021712-00070_2.jpg', '200014685-00016_1.jpg', 'umgy008-035.jpg', '200015779_00053_2.jpg', '200004148_00068_1.jpg', '200021763-00025_2.jpg', '100249376_00016_1.jpg', '200021853-00022_1.jpg', 'umgy012-030.jpg', '200021660-00036_1.jpg', '200015779_00069_2.jpg', 'hnsd008-004.jpg', 'hnsd007-006.jpg', '200021851_00018_2.jpg', '200021869-00005_1.jpg', '200021660-00025_1.jpg', '200015779_00046_1.jpg', '200021637-00010_2.jpg', 'hnsd002-022.jpg', 'hnsd008-027.jpg', '200015779_00153_1.jpg', 'umgy009-026.jpg', 'hnsd004-048.jpg', 'hnsd002-012.jpg', '200015779_00092_2.jpg', 'umgy004-044.jpg', '200021712-00043_1.jpg', '200021712-00020_2.jpg', '200022050-00015_2.jpg', '200021853-00005_2.jpg', '100241706_00022_2.jpg', '200003967_00013_2.jpg', '200014740-00085_1.jpg', '200005598_00048_1.jpg', 'brsk003-006.jpg', '100249376_00031_2.jpg', 'hnsd001-011.jpg', '200003967_00044_2.jpg', '200021712-00036_1.jpg', 'umgy005-013.jpg', '200003076_00009_2.jpg', 'umgy009-040.jpg', '200003967_00017_1.jpg', '200021637-00016_2.jpg', '100249371_00025_2.jpg', 'umgy001-038.jpg', 'umgy010-031.jpg', '200021763-00006_1.jpg', 'hnsd004-016.jpg', '200021712-00063_1.jpg', '200015779_00062_1.jpg', '100249416_00013_1.jpg', '200021851_00024_2.jpg', '100241706_00004_2.jpg', 'hnsd010-030.jpg', 'hnsd002-026.jpg', 'hnsd010-011.jpg', '200021660-00050_1.jpg', '200021644_00023_1.jpg', 'umgy001-048.jpg', '200015779_00019_1.jpg', '100241706_00008_2.jpg', '200014685-00022_2.jpg', 'hnsd002-025.jpg', '200021853-00008_2.jpg', '200005598_00009_1.jpg', '200015779_00055_1.jpg', '200005598_00041_1.jpg', '100241706_00017_1.jpg', '200021851_00005_1.jpg', '100249537_00075_1.jpg', '200004148_00085_1.jpg', '200021644_00009_1.jpg', '200021851_00023_1.jpg', '200004148_00070_2.jpg', '200021853-00024_2.jpg', '200021644_00010_1.jpg', '200021869-00008_1.jpg', 'umgy010-006.jpg', 'brsk001-012.jpg', 'umgy001-046.jpg', 'hnsd009-020.jpg', 'hnsd005-015.jpg', 'brsk005-012.jpg', '200003076_00126_1.jpg', 'hnsd007-031.jpg', '200021660-00046_2.jpg', '200015779_00025_1.jpg', 'hnsd009-003.jpg', '200015779_00050_1.jpg', '200003076_00112_2.jpg', '200021851_00007_2.jpg', '100249371_00035_1.jpg', '200003076_00090_2.jpg', 'brsk002-043.jpg', 'hnsd004-044.jpg', '200003076_00044_2.jpg', 'brsk002-036.jpg', 'umgy012-004.jpg', '100249537_00007_1.jpg', '200003076_00033_2.jpg', 'umgy010-032.jpg', '100249537_00013_2.jpg', 'umgy004-046.jpg', 'brsk004-013.jpg', 'hnsd012-003.jpg', '100249476_00026_1.jpg', '100249376_00028_2.jpg', '200004148_00033_2.jpg', '200021712-00045_1.jpg', '200005598_00021_2.jpg', '200021660-00039_1.jpg', '100249371_00007_2.jpg', '200021802-00023_2.jpg', '200003076_00023_1.jpg', 'hnsd003-013.jpg', '100249371_00022_2.jpg', '200015779_00038_1.jpg', '200003076_00135_1.jpg', '100249376_00037_1.jpg', 'umgy010-036.jpg', '200021712-00063_2.jpg', '200021644_00032_1.jpg', '200021660-00038_1.jpg', '200021712-00030_2.jpg', '200021763-00029_2.jpg', '200021644_00012_2.jpg', '100249537_00090_2.jpg', '200005598_00038_2.jpg', 'umgy008-038.jpg', '200003076_00045_2.jpg', '100249376_00007_1.jpg', '200021853-00030_1.jpg', 'hnsd003-031.jpg', '100241706_00015_1.jpg', '200022050-00008_2.jpg', 'hnsd009-037.jpg', 'hnsd003-044.jpg', 'umgy007-002.jpg', 'hnsd001-012.jpg', '200005598_00039_1.jpg', '200021637-00020.jpg', '200014740-00086_1.jpg', '200021712-00008_2.jpg', 'hnsd012-027.jpg', '200021802-00045_1.jpg', 'hnsd012-022.jpg', '200021660-00079_2.jpg', '200021869-00014_2.jpg', 'hnsd011-005.jpg', '200015779_00032_1.jpg', '200003076_00145_1.jpg', 'hnsd002-017.jpg', '200003076_00075_2.jpg', '100249537_00020_1.jpg', 'brsk004-003.jpg', 'hnsd001-004.jpg', '100249537_00053_1.jpg', '200015779_00128_2.jpg', '200003076_00134_1.jpg', '200021712-00064_1.jpg', '200022050-00007_2.jpg', '200015779_00117_1.jpg', 'hnsd011-034.jpg', '100249376_00045_1.jpg', 'hnsd002-027.jpg', '200003967_00007_2.jpg', '200021851_00027_2.jpg', '100249416_00032_2.jpg', '100249371_00028_1.jpg', 'brsk004-008.jpg', '200003076_00159_1.jpg', '200003076_00172_1.jpg', '200003076_00157_2.jpg', '100249537_00031_2.jpg', '200021660-00023_2.jpg', '200003076_00158_1.jpg', '200021712-00031_2.jpg', '200021637-00011_2.jpg', 'umgy002-033.jpg', '200005598_00006_2.jpg', '200021853-00022_2.jpg', 'umgy005-010.jpg', '200004148_00083_1.jpg', '100249537_00087_2.jpg', '200021637-00002.jpg', '200014740-00070_1.jpg', '100249537_00036_1.jpg', 'brsk002-060.jpg', '100249476_00021_1.jpg', '200021763-00040_1.jpg', 'hnsd009-029.jpg', '200003076_00060_2.jpg', 'hnsd009-034.jpg', '200021763-00011_1.jpg', '200003076_00040_1.jpg', 'umgy010-014.jpg', 'brsk005-018.jpg', '200015779_00159_1.jpg', 'umgy006-034.jpg', '200021637-00006_2.jpg', '200021763-00017_1.jpg', '100249537_00039_2.jpg', 'hnsd011-038.jpg', '100249376_00040_1.jpg', '100249476_00020_1.jpg', 'hnsd005-022.jpg', '200014740-00013_2.jpg', '100241706_00028_2.jpg', 'hnsd003-032.jpg', '200003076_00016_1.jpg', '100249537_00014_1.jpg', 'umgy001-012.jpg', '100249371_00017_1.jpg', 'hnsd001-041.jpg', '200021660-00021_1.jpg', 'umgy003-017.jpg', '200003076_00139_1.jpg', '100249371_00028_2.jpg', 'hnsd009-014.jpg', 'umgy003-006.jpg', '200021660-00048_1.jpg', '200003076_00028_2.jpg', 'umgy005-012.jpg', 'hnsd011-036.jpg', '200003076_00043_2.jpg', '200021712-00052_2.jpg', 'umgy002-004.jpg', '100249537_00034_2.jpg', '200022050-00002_2.jpg', 'hnsd003-040.jpg', '200015779_00061_2.jpg', '100241706_00020_2.jpg', 'umgy009-003.jpg', '200021712-00047_1.jpg', '200005598_00008_1.jpg', '200003076_00038_1.jpg', '200021853-00013_1.jpg', '200004148_00073_2.jpg', '200003967_00028_1.jpg', '200015779_00124_1.jpg', '100249537_00081_2.jpg', '200021802-00024_1.jpg', '200021660-00041_1.jpg', '200015779_00141_1.jpg', '200021869-00005_2.jpg', 'brsk005-028.jpg', '200021869-00003_2.jpg', 'hnsd012-009.jpg', 'umgy001-047.jpg', '100249376_00029_2.jpg', '200003076_00102_2.jpg', '200021925-00023_2.jpg', '200003076_00082_2.jpg', '200003076_00155_1.jpg', 'umgy009-028.jpg', '200021869-00014_1.jpg', '200021853-00028_1.jpg', '200021712-00038_1.jpg', '200021802-00031_2.jpg', '200015779_00073_2.jpg', 'umgy007-005.jpg', 'umgy009-018.jpg', '200021763-00014_1.jpg', '100249376_00031_1.jpg', '200003076_00024_1.jpg', '200021660-00020_1.jpg', 'hnsd004-030.jpg', '200005598_00027_1.jpg', 'hnsd012-030.jpg', 'hnsd004-019.jpg', '100249371_00034_2.jpg', '200021637-00010_1.jpg', '200005598_00024_2.jpg', '200021712-00060_1.jpg', '100249537_00003_2.jpg', '200021712-00068_2.jpg', '200021660-00068_1.jpg', '200021802-00009_1.jpg', 'hnsd002-004.jpg', '200005598_00017_2.jpg', '200014740-00070_2.jpg', 'brsk001-030.jpg', '200015779_00097_2.jpg', '200015779_00035_1.jpg', '200021644_00025_2.jpg', 'umgy011-036.jpg', '200021802-00022_1.jpg', 'hnsd006-001.jpg', '200003076_00017_1.jpg', '200021660-00040_2.jpg', 'umgy008-017.jpg', '200003076_00089_2.jpg', 'hnsd007-043.jpg', '200022050-00004_2.jpg', 'umgy008-014.jpg', 'hnsd009-032.jpg', 'hnsd003-017.jpg', '200021660-00027_2.jpg', '200021712-00048_1.jpg', '200003967_00019_1.jpg', 'brsk004-022.jpg', 'hnsd004-040.jpg', '200014740-00017_1.jpg', '200021712-00018_1.jpg', '200015779_00107_1.jpg', 'hnsd002-037.jpg', '100249476_00006_2.jpg', '200021802-00046_1.jpg', 'umgy001-039.jpg', '200021925-00010_1.jpg', '200005598_00029_1.jpg', 'hnsd006-003.jpg', 'hnsd010-031.jpg', '200003076_00022_2.jpg', '200014740-00045_1.jpg', '100249376_00032_2.jpg', '200021763-00002_1.jpg', 'umgy001-042.jpg', '100249537_00045_2.jpg', '200004148_00021_1.jpg', '200021925-00018_1.jpg', '200021853-00009_1.jpg', '200022050-00004_1.jpg', '100249537_00035_1.jpg', 'hnsd007-045.jpg', '200003076_00097_1.jpg', 'umgy004-006.jpg', '200005598_00041_2.jpg', '200005598_00015_2.jpg', 'hnsd012-005.jpg', 'hnsd003-008.jpg', '200003076_00090_1.jpg', '200005598_00013_1.jpg', '200021637-00014_2.jpg', 'brsk002-048.jpg', '200003076_00094_1.jpg', '200003076_00083_1.jpg', 'umgy009-037.jpg', '200021712-00021_2.jpg', '100249537_00037_1.jpg', 'hnsd004-022.jpg', 'umgy001-049.jpg', '200003076_00168_1.jpg', '100249476_00025_1.jpg', 'brsk002-003.jpg', '100249537_00074_1.jpg', '200003076_00108_2.jpg', '200021644_00015_1.jpg', '200014740-00068_2.jpg', 'umgy002-003.jpg', '100249537_00013_1.jpg', '100249371_00020_2.jpg', '200021869-00016_2.jpg', '100249537_00076_2.jpg', '200014740-00061_2.jpg', '200015779_00007_2.jpg', 'umgy006-003.jpg', '100249416_00008_1.jpg', 'umgy008-009.jpg', '100249416_00005_2.jpg', '200021851_00011_2.jpg', '200021802-00045_2.jpg', 'umgy007-003.jpg', '200021712-00011_2.jpg', '200005598_00021_1.jpg', '200003076_00063_2.jpg', 'brsk001-011.jpg', '200003967_00044_1.jpg', '100249537_00051_1.jpg', '200021712-00076_1.jpg', '200021712-00049_2.jpg', '200021802-00048_2.jpg', 'hnsd009-015.jpg', '200021802-00029_2.jpg', '100249371_00011_1.jpg', '200003076_00143_2.jpg', '100249376_00039_1.jpg', '200003967_00016_1.jpg', '200021660-00091_1.jpg', '100241706_00013_1.jpg', '100249376_00044_1.jpg', '200021660-00073_2.jpg', '200021712-00069_2.jpg', 'hnsd012-004.jpg', 'hnsd011-008.jpg', 'umgy001-009.jpg', '100249371_00035_2.jpg', '100241706_00027_1.jpg', '200014685-00009_1.jpg', '200021660-00077_1.jpg', '200021660-00030_1.jpg', '200021802-00046_2.jpg', '200003076_00123_2.jpg', '200014740-00065_2.jpg', '200014740-00005_2.jpg', '100249537_00062_1.jpg', '200003076_00168_2.jpg', '200014740-00061_1.jpg', 'umgy006-029.jpg', 'umgy009-033.jpg', 'hnsd006-025.jpg', '200021763-00026_2.jpg', '200014740-00034_2.jpg', 'hnsd008-018.jpg', '200005598_00032_2.jpg', '200021660-00055_2.jpg', '200021925-00016_2.jpg', '200014740-00059_1.jpg', '200014740-00048_2.jpg', '200021763-00004_2.jpg', '200021712-00017_1.jpg', '200021660-00064_1.jpg', '200021660-00022_2.jpg', '200021851_00015_2.jpg', 'umgy003-024.jpg', '200021712-00040_2.jpg', '200021763-00021_2.jpg', '200004148_00067_1.jpg', 'umgy011-033.jpg', 'brsk003-021.jpg', '200004148_00005_2.jpg', '200015779_00033_1.jpg', '200021853-00033_2.jpg', 'umgy010-018.jpg', '200003076_00164_2.jpg', 'umgy007-021.jpg', '200021869-00008_2.jpg', 'umgy008-011.jpg', 'brsk005-003.jpg', '100249537_00052_1.jpg', '100249376_00028_1.jpg', 'umgy002-025.jpg', 'hnsd003-026.jpg', '200015779_00094_2.jpg', 'umgy012-028.jpg', 'hnsd004-034.jpg', '200021763-00043_2.jpg', 'umgy003-028.jpg', '200004148_00060_2.jpg', '200014740-00020_1.jpg', 'umgy005-022.jpg', '200014740-00027_1.jpg', '200021802-00017_2.jpg', 'hnsd007-044.jpg', '100249537_00086_2.jpg', '100241706_00005_2.jpg', 'hnsd009-007.jpg', '200003967_00029_1.jpg', 'brsk005-007.jpg', 'brsk005-037.jpg', '100241706_00014_1.jpg', '200003076_00005_2.jpg', 'hnsd001-038.jpg', '200003076_00092_2.jpg', 'umgy007-037.jpg', '200021660-00086_2.jpg', '200003076_00116_2.jpg', '200021644_00027_1.jpg', 'umgy004-021.jpg', '200021851_00020_2.jpg', 'umgy004-004.jpg', '100249416_00015_2.jpg', '100249371_00019_1.jpg', '100249476_00013_1.jpg', 'brsk002-015.jpg', '100249416_00021_2.jpg', '200003076_00109_2.jpg', 'hnsd004-037.jpg', '200004148_00091_2.jpg', '200015779_00013_1.jpg', '200003076_00082_1.jpg', '100249376_00019_1.jpg', 'umgy012-017.jpg', '200021763-00020_1.jpg', 'umgy004-018.jpg', 'hnsd011-001.jpg', '200021712-00020_1.jpg', '100241706_00036_1.jpg', '200014740-00073_1.jpg', 'hnsd008-005.jpg', '200004148_00082_1.jpg', 'umgy010-024.jpg', 'hnsd010-037.jpg', '200003076_00012_1.jpg', '200021660-00082_1.jpg', '200005598_00013_2.jpg', '100249476_00018_2.jpg', 'hnsd007-030.jpg', 'umgy005-027.jpg', '200004148_00072_1.jpg', '200015779_00030_2.jpg', '200004148_00015_2.jpg', 'hnsd001-026.jpg', 'hnsd010-025.jpg', '100249476_00005_2.jpg', 'hnsd001-030.jpg', 'umgy011-003.jpg', '200004148_00002_2.jpg', '200014740-00091_1.jpg', '100249476_00020_2.jpg', '200014685-00031_1.jpg', '100249537_00068_1.jpg', 'hnsd006-039.jpg', '200021644_00041_2.jpg', '200021660-00058_1.jpg', 'hnsd007-047.jpg', '200014740-00031_1.jpg', 'umgy005-033.jpg', '200014740-00029_1.jpg', 'hnsd012-012.jpg', '200021925-00003_1.jpg', '100241706_00024_1.jpg', '100249537_00026_1.jpg', '200003076_00144_1.jpg', 'hnsd007-027.jpg', 'umgy007-044.jpg', '200021660-00083_2.jpg', '100249376_00051_2.jpg', '200003076_00076_1.jpg', '200021802-00008_1.jpg', 'hnsd007-013.jpg', '100249537_00072_1.jpg', '200014740-00039_2.jpg', 'umgy005-026.jpg', '200005598_00016_2.jpg', 'umgy006-001.jpg', 'umgy002-028.jpg', '200005598_00026_1.jpg', '200004148_00034_1.jpg', '100249537_00011_2.jpg', 'brsk001-008.jpg', 'brsk004-023.jpg', 'umgy002-039.jpg', '200021660-00047_1.jpg', '200021851_00019_2.jpg', '200003076_00132_1.jpg', '200014740-00034_1.jpg', 'brsk005-006.jpg', '200015779_00023_1.jpg', '200015779_00035_2.jpg', '200015779_00091_2.jpg', '200021660-00057_2.jpg', '200021851_00003_1.jpg', '200021853-00015_1.jpg', '200021660-00053_2.jpg', '100249476_00025_2.jpg', '100249416_00014_2.jpg', '200004148_00062_2.jpg', '100249537_00043_1.jpg', '100249537_00001_1.jpg', 'hnsd005-017.jpg', '200021660-00077_2.jpg', 'hnsd009-002.jpg', 'umgy012-043.jpg', 'umgy008-023.jpg', '200021802-00054_2.jpg', 'hnsd001-009.jpg', '200015779_00134_2.jpg', 'hnsd001-014.jpg', '200003076_00167_1.jpg', '200015779_00044_2.jpg', '100249537_00032_2.jpg', 'hnsd008-023.jpg', '200021869-00018_1.jpg', 'hnsd004-036.jpg', '200021763-00035_2.jpg', 'umgy009-005.jpg', '200021644_00004_1.jpg', '200021637-00008_1.jpg', '200005598_00043_2.jpg', '200015779_00119_1.jpg', '200004148_00052_1.jpg', '200021763-00031_1.jpg', 'brsk003-009.jpg', '200021712-00082_1.jpg', '200015779_00113_1.jpg', 'umgy010-025.jpg', '200005598_00019_2.jpg', '200021660-00032_1.jpg', '200006663_00004_1.jpg', '200003967_00036_1.jpg', '200014740-00046_2.jpg', '200021712-00065_1.jpg', 'hnsd002-029.jpg', '200004148_00071_2.jpg', '200021660-00070_1.jpg', '200021712-00044_1.jpg', '200003076_00072_2.jpg', '200021802-00014_2.jpg', 'umgy011-022.jpg', '200021763-00022_2.jpg', 'brsk003-007.jpg', '200015779_00006_1.jpg', '200004148_00081_2.jpg', '200003076_00067_1.jpg', '200015779_00024_2.jpg', 'umgy004-010.jpg', '200015779_00164_1.jpg', 'hnsd004-009.jpg', '200014685-00032_2.jpg', '200003076_00025_1.jpg', '200003076_00025_2.jpg', 'umgy008-004.jpg', 'umgy008-040.jpg', 'umgy001-032.jpg', '200015779_00037_1.jpg', '200004148_00004_1.jpg', '200021853-00030_2.jpg', 'umgy007-039.jpg', '200022050-00014_2.jpg', '200014740-00003_2.jpg', '200021660-00090_2.jpg', '100249416_00016_1.jpg', '200021802-00028_1.jpg', '200015779_00011_1.jpg', '200021660-00005_1.jpg', '200021637-00003_1.jpg', '200004148_00049_2.jpg', '200004148_00015_1.jpg', 'hnsd001-024.jpg', '200021869-00010_2.jpg', '100249376_00006_2.jpg', '200021763-00026_1.jpg', '200003076_00141_1.jpg', '200003076_00096_1.jpg', 'hnsd007-015.jpg', '200021851_00014_1.jpg', 'umgy004-012.jpg', 'hnsd008-015.jpg', 'umgy006-015.jpg', '200021851_00017_2.jpg', '200003076_00026_1.jpg', '200022050-00012_1.jpg', '200003076_00032_1.jpg', 'hnsd001-008.jpg', '200004148_00013_1.jpg', '200014740-00088_2.jpg', 'umgy002-035.jpg', '100241706_00011_1.jpg', 'hnsd011-003.jpg', 'hnsd010-029.jpg', '200021660-00079_1.jpg', 'brsk001-023.jpg', 'brsk001-010.jpg', 'hnsd010-035.jpg', '200021925-00011_2.jpg', 'umgy010-039.jpg', 'brsk003-011.jpg', 'hnsd010-022.jpg', '200021853-00039_1.jpg', '200014685-00029_1.jpg', 'hnsd008-010.jpg', '200014740-00028_1.jpg', '200021802-00054_1.jpg', '200003076_00070_2.jpg', '200021660-00023_1.jpg', '200003076_00116_1.jpg', 'umgy007-015.jpg', '200014740-00011_2.jpg', '200004148_00028_2.jpg', '100249376_00015_1.jpg', '200021644_00003_1.jpg', 'umgy008-039.jpg', '200003967_00030_1.jpg', '200021802-00021_2.jpg', '200021925-00021_1.jpg', '200021660-00081_2.jpg', '200004148_00076_2.jpg', '100249376_00055_1.jpg', '200021763-00040_2.jpg', '200021802-00050_2.jpg', '200021644_00020_2.jpg', '100249416_00026_2.jpg', 'hnsd006-040.jpg', 'umgy012-031.jpg', 'umgy002-015.jpg', '200015779_00022_2.jpg', '200021802-00053_1.jpg', '200021660-00080_2.jpg', '200015779_00056_2.jpg', '200015779_00138_2.jpg', '200004148_00069_2.jpg', '200015779_00034_2.jpg', 'umgy006-018.jpg', '200003076_00133_1.jpg', '200021853-00024_1.jpg', '100249376_00025_1.jpg', 'brsk003-032.jpg', '100249537_00067_1.jpg', '200004148_00024_1.jpg', '200021763-00046_2.jpg', '100249476_00024_1.jpg', '200004148_00032_2.jpg', '200015779_00118_1.jpg', '200004148_00028_1.jpg', '200021660-00056_1.jpg', 'hnsd005-036.jpg', '200021802-00013_2.jpg', 'hnsd004-027.jpg', '200003076_00053_2.jpg', '100249537_00083_1.jpg', '200021763-00049_1.jpg', 'brsk004-002.jpg', '200003076_00106_2.jpg', '200021660-00083_1.jpg', 'hnsd010-007.jpg', '100241706_00020_1.jpg', '200003076_00098_1.jpg', '200005598_00016_1.jpg', 'hnsd004-010.jpg', 'hnsd012-039.jpg', '200006663_00004_2.jpg', '100249371_00002_1.jpg', '200003076_00013_2.jpg', 'brsk001-029.jpg', 'hnsd001-025.jpg', '200021851_00028_2.jpg', '200003076_00037_1.jpg', '200022050-00005_2.jpg', '100249416_00025_1.jpg', '200021925-00020_1.jpg', 'umgy008-003.jpg', '200021925-00018_2.jpg', 'umgy009-004.jpg', '200021660-00086_1.jpg', '100249376_00009_1.jpg', 'hnsd011-040.jpg', 'hnsd001-003.jpg', '200005598_00020_2.jpg', '200014740-00010_2.jpg', 'umgy010-043.jpg', '100249416_00020_1.jpg', 'hnsd004-039.jpg', '200015779_00074_2.jpg', 'hnsd001-034.jpg', '200021763-00020_2.jpg', '100241706_00016_1.jpg', '100241706_00029_1.jpg', '200003076_00176_1.jpg', 'umgy001-040.jpg', '200021851_00013_1.jpg', 'brsk003-028.jpg', 'brsk001-031.jpg', 'brsk002-005.jpg', '200003076_00087_2.jpg', '200021712-00064_2.jpg', 'umgy004-016.jpg', 'umgy007-009.jpg', '200003076_00054_2.jpg', '200021660-00059_1.jpg', '100249537_00071_1.jpg', '200003076_00177_2.jpg', '200021853-00007_2.jpg', '200005598_00049_1.jpg', '200014740-00009_2.jpg', '200015779_00017_2.jpg', '100249376_00005_2.jpg', '200021802-00011_2.jpg', '200015779_00121_1.jpg', '200021851_00010_1.jpg', '200021802-00035_2.jpg', '200021712-00035_1.jpg', 'umgy012-006.jpg', '200021644_00026_1.jpg', '200021853-00020_1.jpg', '200021802-00038_2.jpg', '200015779_00120_1.jpg', '200015779_00155_1.jpg', 'brsk002-006.jpg', '100249371_00018_1.jpg', '200021763-00041_1.jpg', '100249376_00052_1.jpg', '200021644_00021_2.jpg', '200003076_00066_1.jpg', '100249376_00045_2.jpg', 'hnsd004-025.jpg', 'hnsd010-009.jpg', '200021712-00033_2.jpg', '200015779_00027_1.jpg', 'umgy010-033.jpg', '200015779_00014_1.jpg', 'hnsd012-018.jpg', 'umgy012-008.jpg', '100249537_00045_1.jpg', '100249376_00011_1.jpg', '200021660-00010_2.jpg', '100249537_00021_1.jpg', '200021853-00032_2.jpg', 'umgy001-036.jpg', 'hnsd010-040.jpg', '200021853-00039_2.jpg', '200004148_00046_1.jpg', '200015779_00100_1.jpg', '200021660-00039_2.jpg', '200021660-00014_1.jpg', '200003076_00104_1.jpg', 'hnsd011-016.jpg', '200003076_00015_1.jpg', 'umgy001-026.jpg', '200021851_00022_2.jpg', '200004148_00039_1.jpg', '200004148_00090_1.jpg', '100249416_00004_2.jpg', '100249537_00011_1.jpg', '200015779_00031_2.jpg', 'brsk004-041.jpg', '200003076_00144_2.jpg', '100249416_00009_1.jpg', '200014685-00002_1.jpg', '100249376_00015_2.jpg', '200003076_00140_2.jpg', '200021763-00048_2.jpg', 'hnsd001-005.jpg', 'umgy008-026.jpg', '200021644_00036_2.jpg', '200014740-00025_1.jpg', '100249537_00089_1.jpg', '200003076_00015_2.jpg', '200003967_00040_1.jpg', 'hnsd004-033.jpg', '100249376_00018_1.jpg', '200005598_00014_1.jpg', 'umgy007-038.jpg', '200015779_00160_1.jpg', '200004148_00074_1.jpg', '200003076_00084_2.jpg', '200003076_00017_2.jpg', '200021802-00022_2.jpg', '100249371_00018_2.jpg', '100241706_00019_2.jpg', '100249371_00007_1.jpg', '200021660-00087_2.jpg', 'hnsd012-014.jpg', '200005598_00004_2.jpg', '200021763-00010_2.jpg', 'hnsd011-019.jpg', '200005598_00047_1.jpg', 'hnsd004-017.jpg', '200003076_00129_2.jpg', 'brsk005-042.jpg', 'brsk003-024.jpg', '200003967_00010_2.jpg', 'umgy003-035.jpg', '200022050-00003_1.jpg', 'hnsd002-013.jpg', 'umgy006-013.jpg', 'umgy002-023.jpg', 'hnsd012-002.jpg', '100249376_00047_1.jpg', 'umgy004-045.jpg', 'hnsd003-030.jpg', '200021712-00023_2.jpg', '200004148_00026_1.jpg', '200021851_00026_2.jpg', '200021712-00071_1.jpg', 'brsk002-052.jpg', '200006663_00006_2.jpg', '100249537_00065_1.jpg', 'brsk002-020.jpg', 'hnsd003-009.jpg', '200003967_00022_2.jpg', '200003076_00078_2.jpg', '200005598_00046_2.jpg', '200021660-00074_1.jpg', 'hnsd010-048.jpg', '200021925-00007_1.jpg', '200021712-00036_2.jpg', '200021660-00011_1.jpg', '200015779_00092_1.jpg', '200014740-00058_2.jpg', '200003076_00161_2.jpg', '100249371_00023_1.jpg', 'umgy012-018.jpg', 'hnsd010-006.jpg', 'hnsd006-033.jpg', 'hnsd008-029.jpg', '100249537_00055_2.jpg', '200021660-00059_2.jpg', 'hnsd009-019.jpg', '200021644_00032_2.jpg', 'umgy010-008.jpg', '200021660-00015_2.jpg', 'hnsd006-026.jpg', 'umgy003-011.jpg', '100249416_00006_1.jpg', '100249537_00014_2.jpg', 'hnsd010-016.jpg', '200004148_00026_2.jpg', '200021660-00040_1.jpg', 'umgy008-016.jpg', '100249416_00034_1.jpg', '100249537_00069_1.jpg', '100249416_00022_1.jpg', 'brsk005-022.jpg', 'hnsd005-006.jpg', '200021763-00007_2.jpg', '200005598_00040_2.jpg', '200021660-00025_2.jpg', '200003076_00056_2.jpg', '200003967_00023_1.jpg', '200003967_00038_2.jpg', '200014740-00093_1.jpg', 'umgy009-024.jpg', '200021853-00019_2.jpg', '200015779_00115_2.jpg', '100241706_00032_2.jpg', '100249416_00032_1.jpg', 'brsk004-029.jpg', '200015779_00136_2.jpg', '200003076_00130_2.jpg', '200004148_00037_2.jpg', '100249537_00073_1.jpg', '200014740-00018_2.jpg', 'hnsd003-014.jpg', '200005598_00014_2.jpg', 'umgy003-033.jpg', '200021802-00007_2.jpg', 'brsk005-015.jpg', '100249376_00012_1.jpg', '200021644_00031_2.jpg', '200021851_00009_1.jpg', '200015779_00144_2.jpg', 'hnsd008-003.jpg', 'hnsd011-030.jpg', '200021853-00016_1.jpg', '200003076_00021_1.jpg', 'brsk004-012.jpg', 'brsk004-010.jpg', '100249376_00011_2.jpg', '200021660-00091_2.jpg', '200021925-00021_2.jpg', '200003967_00039_2.jpg', '200021869-00007_2.jpg', '200015779_00090_1.jpg', 'umgy007-032.jpg', '200015779_00030_1.jpg', '200005598_00031_2.jpg', '200021660-00054_1.jpg', '200004148_00035_2.jpg', 'umgy009-010.jpg', 'umgy001-006.jpg', '200021660-00027_1.jpg', '200021660-00016_2.jpg', '100249376_00041_2.jpg', 'umgy011-026.jpg', '200021853-00003_2.jpg', '200003076_00051_2.jpg', 'umgy004-019.jpg', 'brsk002-046.jpg', '200021869-00016_1.jpg', 'brsk001-009.jpg', '200021802-00037_1.jpg', 'brsk003-031.jpg', 'brsk005-025.jpg', '100241706_00009_2.jpg', '200021660-00029_2.jpg', '200003076_00020_1.jpg', '200021712-00016_1.jpg', '100249537_00056_1.jpg', 'brsk002-042.jpg', '100249416_00020_2.jpg', 'hnsd002-014.jpg', 'hnsd008-017.jpg', '200021660-00020_2.jpg', '200003076_00114_2.jpg', 'brsk002-021.jpg', 'umgy010-048.jpg', '200014740-00037_2.jpg', '200015779_00151_2.jpg', 'brsk003-013.jpg', 'hnsd009-021.jpg', 'brsk004-037.jpg', '200014740-00016_2.jpg', 'umgy007-007.jpg', '200021802-00049_1.jpg', 'umgy005-017.jpg', '200021802-00047_2.jpg', '200021763-00029_1.jpg', 'umgy001-020.jpg', '100249376_00020_1.jpg', '200021712-00061_1.jpg', 'umgy007-011.jpg', '200005598_00005_2.jpg', 'brsk004-034.jpg', '200003076_00151_1.jpg', '200015779_00057_2.jpg', '200021712-00012_1.jpg', '200021660-00032_2.jpg', 'umgy004-027.jpg', '100249371_00027_1.jpg', 'umgy003-019.jpg', 'umgy010-017.jpg', 'umgy002-016.jpg', 'hnsd001-039.jpg', '200021763-00030_2.jpg', 'brsk004-030.jpg', '200021660-00071_2.jpg', '200014685-00012_1.jpg', '200021660-00093_1.jpg', 'brsk003-033.jpg', '200015779_00044_1.jpg', 'umgy006-025.jpg', 'brsk001-014.jpg', '100249371_00021_2.jpg', '200021660-00065_1.jpg', 'brsk003-035.jpg', '200014740-00083_2.jpg', 'umgy005-015.jpg', '200005598_00033_1.jpg', '200015779_00016_2.jpg', 'umgy009-041.jpg', '100241706_00024_2.jpg', 'umgy008-002.jpg', 'umgy007-029.jpg', '200021802-00033_2.jpg', '200021763-00019_2.jpg', '200021851_00006_1.jpg', '200004148_00003_2.jpg', '200021802-00055_2.jpg', 'hnsd005-030.jpg', 'umgy007-020.jpg', 'hnsd004-001.jpg', 'brsk001-021.jpg', '200003076_00009_1.jpg', 'hnsd005-005.jpg', '200003076_00013_1.jpg', '200021660-00042_1.jpg', 'hnsd005-003.jpg', '200015779_00084_2.jpg', '100249537_00024_2.jpg', 'hnsd001-015.jpg', '200021712-00081_2.jpg', 'hnsd004-021.jpg', 'brsk001-035.jpg', '200004148_00073_1.jpg', 'hnsd011-002.jpg', '200021853-00025_1.jpg', '100249537_00047_2.jpg', '200015779_00062_2.jpg', '100249376_00030_1.jpg', '200021660-00088_2.jpg', '200015779_00016_1.jpg', '200014740-00050_2.jpg', 'brsk001-003.jpg', 'umgy012-021.jpg', 'hnsd006-012.jpg', 'hnsd012-017.jpg', '200015779_00155_2.jpg', 'umgy006-026.jpg', '200003076_00167_2.jpg', 'brsk003-046.jpg', '200014685-00002_2.jpg', '200021802-00050_1.jpg', 'hnsd006-021.jpg', '200015779_00156_2.jpg', '200021763-00016_2.jpg', '200021763-00049_2.jpg', '200006663_00006_1.jpg', '200015779_00008_1.jpg', 'hnsd004-003.jpg', '100249537_00059_2.jpg', '200021851_00012_2.jpg', '200021712-00028_2.jpg', '200021712-00026_1.jpg', '200004148_00042_2.jpg', '200021802-00030_2.jpg', '200021763-00023_2.jpg', '200014740-00075_1.jpg', '200021712-00009_1.jpg', '200021763-00032_2.jpg', '100249376_00027_1.jpg', 'umgy007-022.jpg', 'brsk004-019.jpg', 'umgy004-038.jpg', 'umgy012-024.jpg', '200022050-00007_1.jpg', '200015779_00027_2.jpg', '200015779_00110_1.jpg', '200003967_00042_1.jpg', 'hnsd001-029.jpg', '200015779_00022_1.jpg', '200003076_00047_1.jpg', '200003076_00047_2.jpg', '200021802-00039_2.jpg', '100249537_00046_1.jpg', '200021712-00006_2.jpg', 'hnsd011-022.jpg', '200021660-00042_2.jpg', 'umgy001-031.jpg', '200003076_00120_2.jpg', '200015779_00146_1.jpg', '200014685-00014_1.jpg', 'umgy012-038.jpg', 'brsk003-015.jpg', 'hnsd012-025.jpg', '100249537_00044_1.jpg', '200021763-00009_2.jpg', '200021644_00037_1.jpg', '200021802-00042_1.jpg', '200021851_00025_1.jpg', '200005598_00018_2.jpg', '200004148_00003_1.jpg', '200021712-00034_1.jpg', 'hnsd001-048.jpg', '100249476_00009_2.jpg', '200014685-00024_1.jpg', '200014740-00050_1.jpg', '100241706_00025_1.jpg', 'umgy011-024.jpg', '200003076_00022_1.jpg', '200021712-00051_1.jpg', '200021660-00075_1.jpg', '200021660-00009_2.jpg', '200003967_00031_1.jpg', 'brsk005-026.jpg', '200021851_00021_2.jpg', 'hnsd008-016.jpg', 'umgy003-032.jpg', '200003967_00020_2.jpg', 'hnsd008-038.jpg', '200021802-00011_1.jpg', '100241706_00032_1.jpg', '200003076_00115_2.jpg', 'umgy012-040.jpg', '200003076_00097_2.jpg', '200021660-00060_1.jpg', '200021802-00034_1.jpg', '200003076_00105_1.jpg', 'hnsd002-031.jpg', '100249371_00032_1.jpg', '200021637-00009_1.jpg', '200021802-00053_2.jpg', 'brsk004-009.jpg', '200015779_00045_1.jpg', 'umgy001-033.jpg', 'umgy011-032.jpg', '100249476_00007_2.jpg', '100249416_00031_2.jpg', 'umgy011-006.jpg', '100241706_00011_2.jpg', '100249376_00017_1.jpg', '200021660-00084_1.jpg', '200004148_00065_1.jpg', '200014740-00077_1.jpg', '200021660-00092_2.jpg', '200003076_00065_1.jpg', '200003076_00098_2.jpg', '200003076_00052_1.jpg', '200021637-00006_1.jpg', '200014685-00023_2.jpg', 'umgy010-038.jpg', 'hnsd005-018.jpg', '200021712-00076_2.jpg', 'hnsd009-022.jpg', '200021712-00066_2.jpg', '200015779_00072_2.jpg', '200014740-00080_2.jpg', 'hnsd011-006.jpg', 'umgy010-046.jpg', '100249376_00022_1.jpg', 'hnsd007-026.jpg', '100249376_00039_2.jpg', '200015779_00069_1.jpg', '200021851_00017_1.jpg', 'hnsd011-021.jpg', '200015779_00096_1.jpg', '200021644_00042_2.jpg', '200003967_00005_1.jpg', '200021660-00015_1.jpg', '100249537_00060_2.jpg', '200003076_00036_1.jpg', 'hnsd003-034.jpg', 'brsk005-020.jpg', '200004148_00023_1.jpg', '100249376_00036_1.jpg', 'hnsd012-021.jpg', '200014740-00026_1.jpg', 'umgy001-022.jpg', '200003076_00062_1.jpg', '200014740-00022_1.jpg', 'hnsd009-016.jpg', '100249476_00024_2.jpg', '200003076_00066_2.jpg', '200014740-00063_1.jpg', 'umgy001-014.jpg', '200015779_00156_1.jpg', '100249416_00008_2.jpg', '100249537_00010_2.jpg', 'umgy002-017.jpg', '200003076_00127_2.jpg', 'hnsd005-037.jpg', '200014740-00057_2.jpg', '200014740-00079_2.jpg', '200021851_00031.jpg', '200021802-00034_2.jpg', '200021853-00023_1.jpg', 'hnsd005-035.jpg', 'hnsd010-024.jpg', 'umgy007-035.jpg', '200021644_00039_1.jpg', 'umgy005-021.jpg', 'hnsd004-038.jpg', '200021763-00043_1.jpg', 'hnsd001-042.jpg', '200015779_00017_1.jpg', 'hnsd011-028.jpg', 'brsk005-031.jpg', '200003967_00033_2.jpg', 'brsk005-021.jpg', 'umgy009-030.jpg', '200015779_00070_2.jpg', 'umgy006-035.jpg', '100249371_00006_2.jpg', 'hnsd012-035.jpg', '100249537_00019_2.jpg', '200015779_00052_1.jpg', '200014740-00062_2.jpg', 'umgy007-004.jpg', '100249537_00080_1.jpg', '200003967_00022_1.jpg', 'umgy010-030.jpg', '200021763-00014_2.jpg', '200003967_00031_2.jpg', 'umgy003-009.jpg', '200003076_00055_1.jpg', '200015779_00129_2.jpg', 'hnsd006-034.jpg', '200021712-00084_1.jpg', '200014740-00044_1.jpg', '200021802-00048_1.jpg', 'brsk002-064.jpg', '200022050-00012_2.jpg', '200014685-00024_2.jpg', '200021660-00093_2.jpg', '200014740-00078_2.jpg', 'brsk002-038.jpg', '200006663_00002_2.jpg', '200015779_00108_2.jpg', '200014685-00018_2.jpg', '200021712-00037_2.jpg', '200021644_00019_2.jpg', '100249376_00033_1.jpg', '200003076_00108_1.jpg', '200015779_00093_1.jpg', 'umgy009-013.jpg', 'umgy011-005.jpg', 'brsk004-018.jpg', '200014740-00069_1.jpg', 'hnsd007-003.jpg', '100249537_00003_1.jpg', 'brsk001-006.jpg', '200005598_00035_1.jpg', '200005598_00046_1.jpg', '100241706_00038_2.jpg', '200014740-00007_2.jpg', '100249537_00075_2.jpg', 'umgy006-031.jpg', '200005598_00033_2.jpg', '200015779_00150_2.jpg', '200021712-00019_1.jpg', '200014740-00053_2.jpg', '200021851_00013_2.jpg', '200003076_00125_2.jpg', '200014685-00028_2.jpg', 'umgy001-017.jpg', '200021869-00015_1.jpg', '200015779_00012_2.jpg', '200003076_00128_2.jpg', '200015779_00067_1.jpg', 'hnsd004-029.jpg', '100249416_00017_1.jpg', '100241706_00023_2.jpg', '200021660-00014_2.jpg', '100249416_00009_2.jpg', '200003076_00081_2.jpg', 'umgy009-032.jpg', '200004148_00055_2.jpg', 'brsk003-030.jpg', '200005598_00006_1.jpg', 'umgy001-034.jpg', '200021644_00028_1.jpg', '200003076_00163_2.jpg', '200005598_00018_1.jpg', '200003967_00027_1.jpg', '200005598_00025_2.jpg', 'umgy006-011.jpg', 'umgy012-003.jpg', '200003967_00018_1.jpg', '100249376_00054_1.jpg', '100249371_00032_2.jpg', '100249376_00034_1.jpg', '200004148_00050_2.jpg', '100249537_00053_2.jpg', '200021712-00019_2.jpg', 'hnsd011-011.jpg', '200021853-00026_2.jpg', '200021712-00073_2.jpg', 'brsk005-041.jpg', 'umgy009-012.jpg', '200003076_00157_1.jpg', '100249476_00026_2.jpg', '200014740-00032_1.jpg', 'umgy003-012.jpg', '200014740-00029_2.jpg', 'umgy005-008.jpg', 'umgy011-018.jpg', '200021644_00037_2.jpg', '200021853-00016_2.jpg', 'hnsd009-012.jpg', '200021644_00026_2.jpg', 'brsk002-059.jpg', 'hnsd003-028.jpg', '200021802-00027_2.jpg', 'umgy011-011.jpg', 'umgy005-018.jpg', 'umgy011-008.jpg', '100249376_00024_1.jpg', 'umgy004-042.jpg', '200004148_00051_1.jpg', '200021660-00085_1.jpg', '200014740-00079_1.jpg', 'umgy002-001.jpg', 'umgy012-016.jpg', '200015779_00065_2.jpg', 'brsk002-055.jpg', 'umgy011-030.jpg', 'hnsd007-040.jpg', '100249476_00007_1.jpg', '100249376_00029_1.jpg', 'hnsd007-022.jpg', '200003967_00028_2.jpg', '200014740-00049_1.jpg', '200021851_00007_1.jpg', '200021712-00024_1.jpg', '200015779_00114_1.jpg', '200021660-00029_1.jpg', '200021644_00004_2.jpg', '200004148_00016_1.jpg', '200021802-00030_1.jpg', 'umgy005-020.jpg', '200014740-00088_1.jpg', 'hnsd008-013.jpg', '100249371_00033_2.jpg', '100249371_00008_2.jpg', '200015779_00137_1.jpg', '200004148_00064_2.jpg', '200003076_00018_1.jpg', '200014740-00087_1.jpg', 'hnsd006-022.jpg', '200021644_00018_1.jpg', '200021712-00003_2.jpg', '200003076_00054_1.jpg', '200021644_00039_2.jpg', '200004148_00025_1.jpg', 'umgy001-004.jpg', '100249537_00083_2.jpg', 'hnsd003-038.jpg', '200021660-00031_1.jpg', '200021763-00031_2.jpg', '200021763-00019_1.jpg', '200021869-00010_1.jpg', 'umgy008-030.jpg', '200021712-00073_1.jpg', '200021925-00007_2.jpg', '200014685-00007_1.jpg', '200021802-00051_2.jpg', '100249376_00021_2.jpg', 'umgy002-032.jpg', '100249371_00023_2.jpg', '100249416_00028_2.jpg', '100249416_00027_1.jpg', '200021644_00010_2.jpg', '200021712-00032_1.jpg', '200003076_00077_2.jpg', '200003076_00046_2.jpg', 'hnsd003-005.jpg', '200015779_00112_2.jpg', '100249476_00011_2.jpg', 'umgy003-029.jpg', '100249376_00035_1.jpg', '200015779_00130_2.jpg', '100249416_00019_1.jpg', '200014740-00037_1.jpg', '100249537_00017_1.jpg', '200014740-00091_2.jpg', '200021644_00008_2.jpg', '200015779_00158_2.jpg', 'hnsd003-021.jpg', 'brsk002-026.jpg', '200021925-00008_1.jpg', '200021763-00015_1.jpg', '200021763-00013_1.jpg', '200021660-00006_1.jpg', '200003076_00053_1.jpg', '200021763-00028_1.jpg', '200004148_00083_2.jpg', '200021802-00010_2.jpg', '100249537_00022_1.jpg', '100249537_00051_2.jpg', 'umgy004-030.jpg', 'hnsd001-031.jpg', '200015779_00125_1.jpg', '200003967_00024_2.jpg', '200021660-00072_1.jpg', '200005598_00020_1.jpg', '200004148_00086_1.jpg', '100249476_00005_1.jpg', '200004148_00030_1.jpg', '200015779_00158_1.jpg', '100249537_00065_2.jpg', 'hnsd007-010.jpg', 'umgy002-037.jpg', 'brsk002-033.jpg', '200021644_00027_2.jpg', 'umgy003-026.jpg', '200003967_00013_1.jpg', '100249476_00022_2.jpg', 'umgy011-029.jpg', '200021853-00012_1.jpg', 'hnsd006-008.jpg', '200003076_00145_2.jpg', '100249376_00024_2.jpg', '200021644_00031_1.jpg', 'hnsd010-033.jpg', '200015779_00136_1.jpg', '200021802-00057_1.jpg', '200021712-00062_2.jpg', '200014740-00066_2.jpg', '200004148_00078_1.jpg', '200021660-00008_2.jpg', '200014740-00064_2.jpg', '200021763-00041_2.jpg', '200005598_00003_1.jpg', '200021712-00041_2.jpg', '100249376_00022_2.jpg', '200003967_00005_2.jpg', '200021660-00060_2.jpg', '200021644_00035_2.jpg', 'umgy010-047.jpg', '200003076_00076_2.jpg', '200021660-00049_1.jpg', 'umgy002-019.jpg', '200015779_00095_2.jpg', 'hnsd005-020.jpg', '200003967_00027_2.jpg', '200015779_00089_2.jpg', '100249537_00002_2.jpg', 'brsk001-027.jpg', '200021660-00085_2.jpg', '200021712-00022_1.jpg', '100249476_00015_2.jpg', '200014740-00015_1.jpg', '200021712-00025_1.jpg', '200004148_00037_1.jpg', 'hnsd005-028.jpg', '200021712-00007_1.jpg', '100249537_00070_1.jpg', '200003076_00103_1.jpg', '200021660-00018_1.jpg', '200021644_00018_2.jpg', 'umgy005-005.jpg', 'hnsd012-029.jpg', '100249376_00053_2.jpg', 'hnsd003-020.jpg', 'brsk001-033.jpg', '200021869-00006_1.jpg', '200004148_00061_1.jpg', '100249371_00005_1.jpg', 'hnsd011-032.jpg', '200015779_00012_1.jpg', '200021712-00043_2.jpg', '100241706_00015_2.jpg', 'umgy001-013.jpg', 'hnsd008-014.jpg', 'brsk005-033.jpg', '200003076_00078_1.jpg', '200021869-00004_2.jpg', 'umgy004-040.jpg', '200021763-00048_1.jpg', '200021637-00015_2.jpg', '200021712-00059_1.jpg', '200021802-00003_1.jpg', '200014740-00007_1.jpg', '200021925-00012_1.jpg', 'hnsd002-034.jpg', '200014740-00032_2.jpg', '200005598_00042_2.jpg', '200021853-00032_1.jpg', 'hnsd008-036.jpg', '200003076_00037_2.jpg', 'umgy009-008.jpg', 'hnsd009-035.jpg', 'hnsd001-036.jpg', 'hnsd009-023.jpg', '200015779_00131_2.jpg', '200005598_00002_2.jpg', '100241706_00035_2.jpg', '100249476_00012_2.jpg', '200005598_00023_2.jpg', 'hnsd004-035.jpg', '200015779_00115_1.jpg', '200021660-00096.jpg', '200021763-00039_1.jpg', 'brsk003-047.jpg', '200003076_00074_2.jpg', '200004148_00039_2.jpg', 'brsk003-016.jpg', '200021853-00040_2.jpg', 'hnsd009-039.jpg', '100249537_00089_2.jpg', 'umgy003-023.jpg', '100249376_00054_2.jpg', '200005598_00010_2.jpg', '200021644_00016_2.jpg', '200003076_00095_1.jpg', '200021660-00012_2.jpg', '200014685-00007_2.jpg', '200015779_00094_1.jpg', 'hnsd002-007.jpg', '200021802-00032_1.jpg', '200022050-00011_1.jpg', '200021660-00069_1.jpg', 'hnsd007-035.jpg', '200003076_00100_1.jpg', 'umgy010-015.jpg', 'umgy011-031.jpg', 'umgy010-045.jpg', '200021712-00012_2.jpg', 'umgy010-010.jpg', '200021763-00044_2.jpg', '100249476_00010_1.jpg', '200021644_00023_2.jpg', 'hnsd004-006.jpg', '100249476_00019_1.jpg', '200015779_00043_2.jpg', 'brsk004-020.jpg', '100249537_00038_1.jpg', 'hnsd010-005.jpg', '200021763-00045_2.jpg', 'umgy001-045.jpg', 'hnsd008-034.jpg', '200021644_00033_1.jpg', '100249376_00050_2.jpg', 'umgy003-003.jpg', '200003076_00049_2.jpg', '200015779_00130_1.jpg', '100249376_00057_1.jpg', '200021851_00009_2.jpg', '200021925-00009_2.jpg', '200003076_00127_1.jpg', '200015779_00154_1.jpg', '200021853-00006_1.jpg', '200014740-00089_1.jpg', 'brsk001-007.jpg', '200014685-00009_2.jpg', '200021763-00033_1.jpg', '200021802-00004_1.jpg', '200003076_00111_2.jpg', '200021644_00021_1.jpg', 'umgy012-032.jpg', 'hnsd001-032.jpg', '200021712-00034_2.jpg', 'hnsd001-037.jpg', '200003076_00041_1.jpg', '200021644_00007_1.jpg', '200015779_00141_2.jpg', '200003076_00160_2.jpg', '200003076_00153_2.jpg', 'brsk004-006.jpg', '200021712-00077_1.jpg', '200003076_00034_1.jpg', 'umgy003-031.jpg', 'brsk002-012.jpg', 'brsk003-008.jpg', '200021660-00036_2.jpg', 'umgy003-022.jpg', '200003076_00035_2.jpg', '100249476_00023_2.jpg', 'umgy008-033.jpg', '200014685-00004_1.jpg', '200003076_00105_2.jpg', '200021853-00029_2.jpg', 'brsk001-015.jpg', 'brsk003-019.jpg', '200003967_00017_2.jpg', '100249371_00016_2.jpg', 'umgy011-035.jpg', 'hnsd009-036.jpg', 'umgy003-036.jpg', '200015779_00087_2.jpg', 'hnsd002-035.jpg', '200015779_00101_1.jpg', 'umgy002-031.jpg', '200014740-00024_2.jpg', '200003076_00124_1.jpg', '100249537_00047_1.jpg', 'umgy009-007.jpg', '200005598_00023_1.jpg', 'hnsd008-007.jpg', '200021925-00009_1.jpg', 'hnsd008-020.jpg', 'brsk002-018.jpg', '200014740-00027_2.jpg', '100249376_00043_2.jpg', '100249376_00044_2.jpg', '200021660-00038_2.jpg', '200014685-00021_1.jpg', '200022050-00002_1.jpg', '200021869-00011_1.jpg', '200021660-00063_2.jpg', '200021660-00013_2.jpg', 'hnsd008-037.jpg', '200021712-00004_1.jpg', '200014740-00083_1.jpg', 'umgy002-026.jpg', 'hnsd003-042.jpg', 'brsk002-035.jpg', '200003076_00062_2.jpg', '200003076_00070_1.jpg', '200021660-00004_1.jpg', '200003076_00170_2.jpg', '200003076_00174_2.jpg', '200003076_00174_1.jpg', 'umgy002-036.jpg', '100249376_00053_1.jpg', '100249376_00003_1.jpg', 'umgy001-015.jpg', '200021925-00019_1.jpg', 'umgy008-006.jpg', '200021853-00017_2.jpg', '200021660-00062_1.jpg', '200014740-00036_1.jpg', '200014740-00006_1.jpg', '200015779_00103_1.jpg', '200021925-00011_1.jpg', '200021712-00056_2.jpg', '200021660-00017_1.jpg', '200003076_00079_1.jpg', '100249537_00038_2.jpg', '100249476_00004_2.jpg', 'umgy002-014.jpg', '200003967_00041_1.jpg', 'hnsd010-041.jpg', '200003076_00035_1.jpg', '200015779_00139_1.jpg', '100249537_00074_2.jpg', '200015779_00005_2.jpg', '200003076_00006_2.jpg', 'hnsd007-036.jpg', '100249537_00079_2.jpg', '200021712-00057_2.jpg', 'hnsd012-016.jpg', '200003076_00059_1.jpg', 'umgy001-052.jpg', 'hnsd009-006.jpg', '200021851_00021_1.jpg', 'umgy006-005.jpg', '200004148_00067_2.jpg', '200003076_00117_1.jpg', '200014740-00052_2.jpg', 'brsk004-033.jpg', '100249376_00037_2.jpg', '100249416_00013_2.jpg', '100249537_00017_2.jpg', '200003076_00151_2.jpg', 'hnsd003-012.jpg', 'hnsd010-003.jpg', 'hnsd003-036.jpg', '200014740-00052_1.jpg', '200003967_00025_1.jpg', '200014740-00056_2.jpg', '200021660-00018_2.jpg', '200004148_00005_1.jpg', '200021853-00020_2.jpg', '200003076_00122_2.jpg', 'brsk002-007.jpg', '200003076_00030_2.jpg', 'umgy008-021.jpg', 'umgy008-015.jpg', 'brsk004-011.jpg', 'umgy002-012.jpg', '200003076_00173_1.jpg', '100249537_00088_2.jpg', '200004148_00077_2.jpg', '100249376_00006_1.jpg', '200021712-00038_2.jpg', '200014740-00056_1.jpg', '200003076_00154_2.jpg', 'umgy008-031.jpg', '200004148_00052_2.jpg', '200015779_00025_2.jpg', '200015779_00132_1.jpg', '100249416_00012_2.jpg', '100249537_00027_1.jpg', '200021660-00031_2.jpg', '200003076_00150_1.jpg', '200003076_00100_2.jpg', 'hnsd010-008.jpg', '200014740-00005_1.jpg', '200004148_00085_2.jpg', '200003076_00121_2.jpg', '200021644_00012_1.jpg', '200015779_00026_2.jpg', 'hnsd006-032.jpg', '200015779_00052_2.jpg', 'hnsd006-016.jpg', '200003076_00103_2.jpg', '200014740-00040_1.jpg', '200005598_00007_2.jpg', '200003967_00011_2.jpg', '200004148_00056_1.jpg', 'hnsd009-031.jpg', 'umgy012-012.jpg', '200005598_00008_2.jpg', 'hnsd007-014.jpg', '200021853-00023_2.jpg', '200003076_00067_2.jpg', 'hnsd006-017.jpg', '200005598_00028_2.jpg', '200004148_00036_1.jpg', 'hnsd006-020.jpg', 'umgy004-035.jpg', '200021644_00019_1.jpg', 'hnsd001-006.jpg', 'hnsd009-005.jpg', '200021763-00037_1.jpg', 'hnsd002-032.jpg', '200004148_00087_2.jpg', '100249376_00043_1.jpg', 'hnsd002-018.jpg', '200014740-00057_1.jpg', '100249476_00014_2.jpg', '200021853-00019_1.jpg', '200003967_00016_2.jpg', '200014740-00025_2.jpg', '200015779_00135_1.jpg', '200021644_00030_1.jpg', '200021644_00041_1.jpg', 'brsk003-004.jpg', '200003967_00014_1.jpg', '100249537_00041_2.jpg', 'brsk003-040.jpg', '200021763-00028_2.jpg', '200021763-00051.jpg', 'hnsd004-007.jpg', '100249537_00062_2.jpg', '200003076_00007_2.jpg', '200003967_00030_2.jpg', '200021712-00069_1.jpg', 'hnsd003-029.jpg', 'hnsd009-001.jpg', '200021763-00008_2.jpg', '100249376_00046_2.jpg', '100241706_00012_2.jpg', 'umgy003-025.jpg', 'umgy005-004.jpg', '100249537_00056_2.jpg', '200014740-00002_1.jpg', 'hnsd007-009.jpg', '100249376_00027_2.jpg', '100241706_00030_2.jpg', '200015779_00073_1.jpg', '200014740-00004_2.jpg', '200003967_00012_1.jpg', '200014740-00090_2.jpg', '100241706_00025_2.jpg', '200003076_00084_1.jpg', 'hnsd008-026.jpg', '100249476_00003_2.jpg', '200021869-00012_1.jpg', 'hnsd006-009.jpg', '200015779_00124_2.jpg', 'hnsd001-045.jpg', 'hnsd010-026.jpg', '200021644_00040_1.jpg', 'hnsd005-013.jpg', '200021851_00022_1.jpg', 'hnsd011-029.jpg', '200003967_00020_1.jpg', 'hnsd008-001.jpg', '100249476_00016_2.jpg', '200003076_00139_2.jpg', '200021712-00014_1.jpg', '200021802-00025_2.jpg', 'umgy004-036.jpg', '200021853-00038_1.jpg', 'umgy005-014.jpg', '200003967_00021_2.jpg', '200015779_00118_2.jpg', 'umgy002-008.jpg', '200021644_00046_1.jpg', 'umgy012-023.jpg', 'hnsd004-008.jpg', '200014740-00040_2.jpg', '200021644_00045_1.jpg', '200021660-00043_2.jpg', '200015779_00123_1.jpg', 'umgy003-039.jpg', '200021851_00026_1.jpg', 'umgy010-013.jpg', 'umgy012-014.jpg', '200003076_00096_2.jpg', '100241706_00039_1.jpg', 'hnsd004-012.jpg', '200015779_00139_2.jpg', '200022050-00001.jpg', '200015779_00102_2.jpg', 'brsk001-026.jpg', '200021802-00006_1.jpg', '100249537_00078_2.jpg', '200021644_00022_1.jpg', '200003076_00125_1.jpg', '100249416_00012_1.jpg', '100249376_00048_1.jpg', '200004148_00059_1.jpg', 'brsk005-034.jpg', '200003076_00089_1.jpg', '200014685-00006_1.jpg', 'hnsd006-013.jpg', '100249537_00085_1.jpg', '100249416_00024_2.jpg', '200021802-00052_1.jpg', '100249537_00076_1.jpg', '200021712-00079_2.jpg', 'brsk002-063.jpg', '200004148_00082_2.jpg', 'umgy012-039.jpg', '200015779_00161_1.jpg', 'hnsd003-003.jpg', '200003076_00077_1.jpg', '200015779_00071_2.jpg', '200015779_00163_1.jpg', '100249537_00006_1.jpg', '100249537_00080_2.jpg', '200021712-00041_1.jpg', 'hnsd001-022.jpg', '100249376_00032_1.jpg', 'brsk001-036.jpg', 'hnsd005-021.jpg', 'umgy002-034.jpg', 'hnsd007-012.jpg', 'brsk003-025.jpg', 'umgy012-011.jpg', '200005598_00025_1.jpg', '200021851_00005_2.jpg', 'umgy005-030.jpg', '100249476_00014_1.jpg', '200003076_00020_2.jpg', '200015779_00109_1.jpg', 'hnsd011-023.jpg', '200021712-00074_1.jpg', '200014740-00012_1.jpg', '100249476_00016_1.jpg', 'brsk003-005.jpg', '200003076_00149_1.jpg', 'hnsd011-025.jpg', '200021869-00009_1.jpg', 'hnsd007-004.jpg', 'umgy010-026.jpg', 'hnsd010-032.jpg', '200003967_00023_2.jpg', 'hnsd010-028.jpg', 'brsk002-040.jpg', '200003076_00136_1.jpg', '200004148_00013_2.jpg', '200014740-00033_2.jpg', '200003076_00142_1.jpg', '200015779_00162_2.jpg', '200021644_00038_2.jpg', '200021802-00051_1.jpg', '200014740-00018_1.jpg', '200021644_00015_2.jpg', '200021763-00034_1.jpg', '200021712-00075_1.jpg', 'umgy001-011.jpg', 'brsk003-022.jpg', 'umgy006-012.jpg', 'hnsd007-042.jpg', 'brsk001-034.jpg', 'hnsd012-015.jpg', 'brsk002-053.jpg', '200015779_00154_2.jpg', '200003967_00015_1.jpg', '200021851_00027_1.jpg', 'umgy010-019.jpg', 'brsk002-011.jpg', '200014740-00024_1.jpg', '200005598_00022_1.jpg', 'brsk004-007.jpg', 'hnsd006-041.jpg', '200014740-00084_2.jpg', 'brsk005-038.jpg', '100249537_00082_1.jpg', 'brsk003-010.jpg', '200021763-00050_1.jpg', '200015779_00117_2.jpg', '200003076_00092_1.jpg', 'umgy001-019.jpg', '100249376_00013_2.jpg', 'umgy004-022.jpg', '200003076_00052_2.jpg', '200015779_00046_2.jpg', '200015779_00153_2.jpg', '100249376_00042_1.jpg', '100249376_00008_1.jpg', '200021802-00014_1.jpg', '200015779_00131_1.jpg', 'umgy012-007.jpg', 'umgy012-025.jpg', '200015779_00049_1.jpg', '200015779_00039_1.jpg', '200005598_00017_1.jpg', 'umgy003-007.jpg', '200015779_00055_2.jpg', '200003076_00107_1.jpg', '200021637-00005_1.jpg', '200014740-00081_2.jpg', '100249537_00069_2.jpg', '200021925-00010_2.jpg', '200014740-00086_2.jpg', 'umgy008-012.jpg', 'brsk004-026.jpg', '200021660-00066.jpg', 'brsk003-043.jpg', '100241706_00022_1.jpg', '200004148_00043_2.jpg', 'umgy008-013.jpg', '200021660-00082_2.jpg', '100249537_00033_2.jpg', '200015779_00015_2.jpg', '200015779_00031_1.jpg', '200014685-00014_2.jpg', '200021712-00059_2.jpg', 'umgy012-019.jpg', '200021853-00027_2.jpg', '200021802-00006_2.jpg', '200021802-00021_1.jpg', '200014740-00026_2.jpg', '200021763-00027_1.jpg', 'umgy004-024.jpg', '200021637-00004_2.jpg', 'hnsd003-023.jpg', '200003967_00043_2.jpg', 'umgy002-011.jpg', 'brsk005-008.jpg', 'brsk004-014.jpg', '100249416_00005_1.jpg', '100249537_00007_2.jpg', 'hnsd006-018.jpg', '200003967_00014_2.jpg', '200021712-00049_1.jpg', '200015779_00095_1.jpg', 'umgy005-011.jpg', '200014740-00074_2.jpg', 'brsk002-058.jpg', '200005598_00026_2.jpg', '200021925-00014_1.jpg', '200003076_00088_2.jpg', 'hnsd010-047.jpg', '200004148_00064_1.jpg', 'hnsd003-015.jpg', '200014685-00017_2.jpg', '200021853-00010_2.jpg', 'brsk005-017.jpg', '200003076_00083_2.jpg', '200021802-00041_2.jpg', 'umgy009-025.jpg', '200021853-00040_1.jpg', '200003076_00007_1.jpg', '200021802-00020_1.jpg', '200021851_00008_1.jpg', 'umgy009-022.jpg', 'umgy011-016.jpg', '200021712-00077_2.jpg', 'brsk004-004.jpg', '200021802-00008_2.jpg', '200021802-00043_1.jpg', '200021660-00016_1.jpg', '200005598_00037_2.jpg', 'hnsd008-011.jpg', '200004148_00019_1.jpg', '100249371_00022_1.jpg', '200021712-00025_2.jpg', '100241706_00012_1.jpg', '100249376_00026_2.jpg', '200021802-00033_1.jpg', 'brsk003-002.jpg', '200014740-00058_1.jpg', '200003076_00088_1.jpg', '200021712-00067_1.jpg', '200021660-00092_1.jpg', '100249371_00031_2.jpg', '200003076_00156_1.jpg', 'umgy010-027.jpg', 'hnsd011-012.jpg', '100249537_00050_1.jpg', 'brsk001-005.jpg', '200014740-00021_2.jpg', '100249537_00078_1.jpg', '200015779_00147_2.jpg', '200003076_00171_2.jpg', 'umgy008-028.jpg', '100249537_00016_1.jpg', 'hnsd003-007.jpg', '200014685-00010_1.jpg', '100249371_00025_1.jpg', '100249371_00024_2.jpg', '200014740-00048_1.jpg', '200015779_00071_1.jpg', '100249537_00057_1.jpg', '200021869-00007_1.jpg', '100249537_00032_1.jpg', '200014685-00011_2.jpg', 'hnsd007-024.jpg', 'umgy003-002.jpg', 'umgy004-032.jpg', '100249371_00004_2.jpg', '200021644_00006_2.jpg', '200003076_00008_2.jpg', '100241706_00017_2.jpg', '200014685-00021_2.jpg', '200021712-00013_2.jpg', '200015779_00110_2.jpg', '200021853-00036_2.jpg', '100249537_00008_1.jpg', '200014740-00002_2.jpg', '200021712-00053_1.jpg', 'hnsd002-023.jpg', 'umgy008-024.jpg', '200015779_00100_2.jpg', 'hnsd001-044.jpg', 'umgy011-021.jpg', '200021853-00037_1.jpg', 'brsk003-027.jpg', '100249376_00036_2.jpg', '200021851_00019_1.jpg', '200021712-00042_2.jpg', 'umgy009-015.jpg', '200005598_00004_1.jpg', '100249371_00009_2.jpg', 'hnsd001-043.jpg', 'umgy004-043.jpg', '200006663_00003_1.jpg', 'umgy012-022.jpg', 'brsk002-022.jpg', '200021644_00014_1.jpg', '200003967_00009_1.jpg', '200003076_00166_1.jpg', '200004148_00045_1.jpg', 'umgy008-020.jpg', 'umgy012-015.jpg', '200004148_00020_1.jpg', '200014685-00025_1.jpg', 'hnsd002-010.jpg', '100249416_00024_1.jpg', '200003076_00175_2.jpg', 'umgy009-034.jpg', '100249537_00064_2.jpg', '200003967_00034_1.jpg', '100249376_00038_2.jpg', '200003076_00171_1.jpg', 'brsk002-014.jpg', '200021660-00084_2.jpg', 'hnsd006-038.jpg', '100249537_00002_1.jpg', '200003076_00073_1.jpg', 'hnsd007-039.jpg', '200015779_00010_2.jpg', '200022050-00006_1.jpg', '200014740-00066_1.jpg', 'brsk003-023.jpg', 'hnsd001-020.jpg', '200003076_00081_1.jpg', 'umgy006-028.jpg', '200014685-00013_1.jpg', '200021660-00076_1.jpg', '200014740-00030_1.jpg', '200003967_00008_1.jpg', '200015779_00065_1.jpg', '200003076_00033_1.jpg', '200021802-00032_2.jpg', 'hnsd009-011.jpg', '100249537_00010_1.jpg', 'umgy009-029.jpg', '200014685-00027_2.jpg', '200004148_00058_1.jpg', '200004148_00084_2.jpg', '200003076_00016_2.jpg', 'umgy007-043.jpg', '200021763-00039_2.jpg', '200003076_00146_2.jpg', '200005598_00007_1.jpg', '200014740-00039_1.jpg', 'umgy008-027.jpg', '200004148_00066_2.jpg', 'hnsd009-030.jpg', '200021644_00028_2.jpg', '200021853-00018_1.jpg', '200014740-00006_2.jpg', 'hnsd006-024.jpg', '200015779_00029_1.jpg', '200021712-00053_2.jpg', 'hnsd006-011.jpg', 'hnsd012-036.jpg', 'umgy010-040.jpg', '200021712-00066_1.jpg', 'brsk003-042.jpg', '200021763-00010_1.jpg', '100241706_00006_1.jpg', '100249537_00087_1.jpg', 'hnsd010-042.jpg', '200004148_00017_2.jpg', '200003076_00093_1.jpg', '200021851_00011_1.jpg', '200015779_00061_1.jpg', 'hnsd010-036.jpg', '200021644_00038_1.jpg', '200014685-00031_2.jpg', 'umgy007-017.jpg', '200021712-00014_2.jpg', '200003076_00156_2.jpg', '200003076_00172_2.jpg', '200021712-00017_2.jpg', 'hnsd012-034.jpg', '200015779_00072_1.jpg', '100249476_00013_2.jpg', '100249371_00016_1.jpg', '200021763-00046_1.jpg', '200014740-00023_2.jpg', '200021802-00055_1.jpg', '200021644_00013_2.jpg', '200021712-00068_1.jpg', '200015779_00045_2.jpg', 'hnsd003-018.jpg', '200021763-00018_2.jpg', '100241706_00039_2.jpg', '200003076_00138_1.jpg', '200015779_00015_1.jpg', '200021660-00028_1.jpg', '200021851_00003_2.jpg', 'hnsd007-025.jpg', 'hnsd004-018.jpg', 'hnsd011-018.jpg', '100249376_00025_2.jpg', '200021853-00010_1.jpg', '200015779_00091_1.jpg', '200003967_00038_1.jpg', 'hnsd002-028.jpg', '200021660-00012_1.jpg', '200014740-00047_2.jpg', '100249537_00049_1.jpg', '200003076_00034_2.jpg', '200003076_00008_1.jpg', '100249537_00004_2.jpg', '200005598_00044_2.jpg', '200005598_00012_2.jpg', '100249537_00005_1.jpg', '200021853-00035_2.jpg', '200003076_00169_2.jpg', '200021660-00003_1.jpg', 'brsk002-065.jpg', 'hnsd004-047.jpg', 'hnsd005-012.jpg', '200004148_00027_2.jpg', '200005598_00047_2.jpg', '200021644_00011_2.jpg', '100249537_00031_1.jpg', '200015779_00068_2.jpg', '200021712-00004_2.jpg', 'brsk005-019.jpg', '200021802-00037_2.jpg', '200014740-00036_2.jpg', '100249371_00003_2.jpg', 'hnsd004-026.jpg', 'umgy011-013.jpg', '200021712-00023_1.jpg', '200015779_00014_2.jpg', 'hnsd010-050.jpg', '200021925-00006_2.jpg', '200021660-00049_2.jpg', 'hnsd010-004.jpg', '200021869-00013_1.jpg', '200003967_00009_2.jpg', '200004148_00069_1.jpg', '200021660-00071_1.jpg', '200015779_00018_2.jpg', '200021712-00058_1.jpg', '200021802-00049_2.jpg', '200015779_00163_2.jpg', '200005598_00048_2.jpg', 'hnsd001-013.jpg', 'hnsd004-013.jpg', 'hnsd001-017.jpg', 'umgy011-025.jpg', '200021712-00046_2.jpg', 'hnsd009-025.jpg', '200003076_00141_2.jpg', '200015779_00157_2.jpg', 'hnsd008-028.jpg', '200021712-00075_2.jpg', 'hnsd005-025.jpg', '200014685-00027_1.jpg', 'brsk002-045.jpg', '200021660-00068_2.jpg', '100249416_00030_2.jpg', 'hnsd005-002.jpg', 'umgy007-034.jpg', '200021712-00055_2.jpg', '200014740-00082_1.jpg', '200003076_00021_2.jpg', '200003076_00018_2.jpg', 'hnsd012-008.jpg', 'umgy004-013.jpg', '200022050-00008_1.jpg', 'umgy001-041.jpg', '200021644_00043_1.jpg', '200021763-00036_2.jpg', '200005598_00019_1.jpg', '100249371_00015_2.jpg', '100249371_00006_1.jpg', '200021925-00024.jpg', '200003076_00099_2.jpg', '200021802-00012_2.jpg', 'umgy006-027.jpg', '200003076_00147_2.jpg', 'hnsd002-021.jpg', 'hnsd009-033.jpg', 'brsk001-019.jpg', '200021802-00043_2.jpg', '200021763-00003_2.jpg', '200004148_00088_2.jpg', '200014685-00008_1.jpg', '100249537_00035_2.jpg', 'umgy011-014.jpg', '200021712-00002_2.jpg', '200021763-00027_2.jpg', '200003076_00039_1.jpg', '200021644_00043_2.jpg', 'umgy007-026.jpg', 'hnsd001-023.jpg', '200015779_00028_1.jpg', '200004148_00027_1.jpg', '200003076_00072_1.jpg', '200021763-00018_1.jpg', '200021763-00044_1.jpg', '100249371_00005_2.jpg', '200014685-00012_2.jpg', 'hnsd012-011.jpg', 'umgy010-005.jpg', 'umgy005-007.jpg', 'umgy006-030.jpg', '200003076_00173_2.jpg', '200021644_00007_2.jpg', '200003076_00080_1.jpg', '100249376_00023_2.jpg', 'brsk005-036.jpg', '200014685-00030_2.jpg', '200021802-00031_1.jpg', '200005598_00050_1.jpg', 'umgy002-022.jpg', 'umgy002-021.jpg', '100249376_00019_2.jpg', 'umgy007-031.jpg', '200014740-00085_2.jpg', 'hnsd006-019.jpg', '200006663_00007_1.jpg', '200021925-00017_1.jpg', '200021712-00010_2.jpg', 'brsk004-038.jpg', '200015779_00034_1.jpg', '100241706_00005_1.jpg', '200014740-00069_2.jpg', '200015779_00023_2.jpg', '200014740-00015_2.jpg', '200014740-00062_1.jpg', '200021763-00033_2.jpg', '200021660-00080_1.jpg', 'umgy006-019.jpg', '100249371_00004_1.jpg', '200021660-00076_2.jpg', 'umgy007-019.jpg', '200003076_00107_2.jpg', 'brsk001-020.jpg', '200015779_00096_2.jpg', '100249476_00018_1.jpg', 'umgy002-005.jpg', '200003967_00042_2.jpg', 'hnsd009-013.jpg', 'hnsd004-020.jpg', '200003076_00029_2.jpg', '200014740-00035_1.jpg', '200004148_00014_2.jpg', '200005598_00042_1.jpg', '200003076_00085_1.jpg', 'umgy005-002.jpg', '100249416_00014_1.jpg', '200015779_00143_1.jpg', 'umgy007-018.jpg', '200003076_00080_2.jpg', 'umgy007-041.jpg', '200003967_00043_1.jpg', '200014740-00084_1.jpg', 'umgy008-036.jpg', '100241706_00035_1.jpg', 'hnsd001-047.jpg', 'hnsd005-019.jpg', '200021660-00005_2.jpg', '100249416_00017_2.jpg', '200014685-00019_2.jpg', '200021644_00008_1.jpg', '100249537_00064_1.jpg', 'hnsd011-039.jpg', '200003076_00038_2.jpg', 'umgy012-033.jpg', 'umgy007-016.jpg', '200003076_00027_2.jpg', '200014740-00065_1.jpg', '200021660-00021_2.jpg', 'umgy006-014.jpg', '200021853-00005_1.jpg', '200014740-00031_2.jpg', '200003076_00169_1.jpg', '200003076_00019_2.jpg', '200021802-00013_1.jpg', '100249416_00019_2.jpg', 'hnsd003-016.jpg', '200021853-00008_1.jpg', 'umgy009-014.jpg', 'umgy006-017.jpg', 'umgy008-001.jpg', 'hnsd003-025.jpg', '200021925-00015_1.jpg', '200003076_00164_1.jpg', '100241706_00029_2.jpg', '200015779_00140_2.jpg', '200005598_00012_1.jpg', '200021712-00079_1.jpg', '200014685-00018_1.jpg', '100249537_00040_2.jpg', 'umgy006-024.jpg', 'umgy012-013.jpg', '200015779_00085_2.jpg', '100249537_00034_1.jpg', '100249537_00016_2.jpg', '100249476_00022_1.jpg', '200003076_00085_2.jpg', '200021712-00021_1.jpg', '200005598_00044_1.jpg', '200003076_00048_2.jpg', '200014685-00028_1.jpg', '200022050-00011_2.jpg', 'hnsd004-043.jpg', 'brsk001-024.jpg', '200004148_00077_1.jpg', '200006663_00007_2.jpg', '200003076_00059_2.jpg', '200003076_00039_2.jpg', '100249537_00050_2.jpg', '200003076_00166_2.jpg', '200021853-00015_2.jpg', '100249537_00022_2.jpg', '200021925-00013_1.jpg', '100249376_00008_2.jpg', '200021851_00020_1.jpg', '100249376_00017_2.jpg', 'hnsd002-002.jpg', '200003076_00028_1.jpg', '200003076_00014_1.jpg', '200015779_00108_1.jpg', 'umgy001-018.jpg', '200015779_00063_1.jpg', 'hnsd011-007.jpg', '200015779_00122_2.jpg', '200021802-00039_1.jpg', '200003967_00036_2.jpg', '200014740-00076_1.jpg', 'hnsd005-040.jpg', '100249376_00040_2.jpg', 'umgy007-033.jpg', '200015779_00087_1.jpg', 'hnsd002-015.jpg', '200003076_00126_2.jpg', '200015779_00134_1.jpg', '100249371_00026_2.jpg', '100249416_00033_1.jpg', 'umgy004-033.jpg', 'brsk001-018.jpg', '100249371_00029_2.jpg', '200004148_00047_1.jpg', '100249376_00021_1.jpg', '200021853-00004_2.jpg', 'brsk005-013.jpg', '200015779_00111_2.jpg', '200021853-00011_2.jpg', '200021802-00026_2.jpg', 'hnsd010-038.jpg', 'umgy005-009.jpg', 'brsk003-026.jpg', 'umgy004-023.jpg', '100249537_00023_2.jpg', '200021637-00017_2.jpg', '200015779_00054_1.jpg', '100249537_00077_1.jpg', '200021660-00070_2.jpg', '200004148_00084_1.jpg', 'umgy003-014.jpg', '200003076_00170_1.jpg', '200003076_00129_1.jpg', 'umgy012-009.jpg', 'hnsd003-043.jpg', '200015779_00029_2.jpg', '200021802-00026_1.jpg', 'hnsd008-002.jpg', 'umgy009-002.jpg', 'hnsd011-020.jpg', '100249376_00023_1.jpg', 'hnsd010-020.jpg', '200021802-00041_1.jpg', '200021869-00012_2.jpg', '200004148_00050_1.jpg', '200015779_00037_2.jpg', '200021644_00011_1.jpg', 'umgy006-023.jpg', '200021869-00002.jpg', 'hnsd005-004.jpg', 'umgy007-025.jpg', '200015779_00086_2.jpg', '200015779_00152_1.jpg', '200003076_00135_2.jpg', '100249537_00054_2.jpg', 'umgy002-009.jpg', 'brsk001-032.jpg', 'brsk005-014.jpg', '200022050-00006_2.jpg', '200021637-00007_1.jpg', '200015779_00098_1.jpg', 'umgy005-029.jpg', '100249371_00048_1.jpg', 'brsk002-062.jpg', '100249416_00010_1.jpg', '200015779_00151_1.jpg', '100249376_00005_1.jpg', '200021802-00020_2.jpg', 'hnsd007-028.jpg', 'umgy006-004.jpg', '200003076_00110_1.jpg', '200015779_00021_1.jpg', '100249537_00059_1.jpg', 'hnsd010-015.jpg', '200014740-00004_1.jpg', '200021637-00004_1.jpg', '100249537_00036_2.jpg', '200015779_00067_2.jpg', 'brsk002-030.jpg', '200021712-00027_2.jpg', '100249537_00081_1.jpg', '200004148_00034_2.jpg', 'hnsd002-040.jpg', '100249537_00018_2.jpg', '200015779_00083_2.jpg', '200021660-00050_2.jpg', 'umgy005-024.jpg', 'umgy005-031.jpg', '200021925-00015_2.jpg', '200015779_00148_2.jpg', '100249371_00027_2.jpg', '100249371_00021_1.jpg', '200021802-00019_1.jpg', '200021660-00055_1.jpg', '200015779_00059_2.jpg', '200021660-00061_2.jpg', '200015779_00144_1.jpg', '100249416_00028_1.jpg', '200003076_00117_2.jpg', 'hnsd009-008.jpg', '100241706_00036_2.jpg', 'hnsd004-011.jpg', '200015779_00050_2.jpg', '200022050-00009_1.jpg', '200014685-00006_2.jpg', 'hnsd006-029.jpg', '200015779_00106_2.jpg', '200015779_00111_1.jpg', '200005598_00034_1.jpg', 'hnsd011-014.jpg', '200003076_00104_2.jpg', '100249376_00049_1.jpg', '200004148_00048_1.jpg', '200004148_00072_2.jpg', '200003076_00064_2.jpg', '200014740-00003_1.jpg', 'hnsd005-034.jpg', '200003076_00027_1.jpg', 'hnsd012-024.jpg', '200021851_00016_2.jpg', '200021802-00005_1.jpg', 'hnsd004-004.jpg', 'umgy009-009.jpg', '200014740-00092_1.jpg', '100249476_00001_1.jpg', '200021660-00058_2.jpg', '100249537_00044_2.jpg', '200005598_00043_1.jpg', '200021644_00044_2.jpg', 'umgy004-005.jpg', 'hnsd011-013.jpg', '200021712-00047_2.jpg', '200015779_00013_2.jpg', 'brsk005-011.jpg', '200003967_00046_2.jpg', 'hnsd011-035.jpg', '100249537_00079_1.jpg', 'umgy009-011.jpg', '100249537_00073_2.jpg', '200021712-00048_2.jpg', '200014740-00087_2.jpg', 'brsk001-025.jpg', '200015779_00129_1.jpg', 'hnsd001-035.jpg', 'umgy004-034.jpg', '100249537_00018_1.jpg', '200015779_00121_2.jpg', 'hnsd012-023.jpg', '200021660-00047_2.jpg', 'hnsd006-037.jpg', 'umgy007-014.jpg', '100249371_00034_1.jpg', '100249537_00048_1.jpg', '200021644_00029_2.jpg', 'umgy009-023.jpg', '200003076_00058_1.jpg', 'umgy003-016.jpg', '200021637-00019_2.jpg', 'umgy002-018.jpg', 'umgy004-014.jpg', '200015779_00097_1.jpg', 'hnsd007-034.jpg', '200015779_00104_2.jpg', '200021763-00037_2.jpg', '200014740-00042_2.jpg', '200004148_00033_1.jpg', '100241706_00021_2.jpg', '200021851_00024_1.jpg', '200015779_00142_2.jpg', '200003076_00122_1.jpg', 'brsk004-039.jpg', 'hnsd011-033.jpg', '200004148_00063_1.jpg', '200022050-00010_1.jpg', '200014740-00021_1.jpg', '200021712-00074_2.jpg', 'umgy006-008.jpg', '200015779_00150_1.jpg', '200021869-00004_1.jpg', '100249416_00033_2.jpg', '200021660-00044_1.jpg', '200004148_00010_2.jpg', 'hnsd005-009.jpg', 'hnsd011-027.jpg', '200014740-00019_2.jpg', '200005598_00034_2.jpg', 'brsk003-012.jpg', '100249537_00012_1.jpg', '100249537_00077_2.jpg', 'umgy001-025.jpg', 'hnsd007-021.jpg', '200004148_00091_1.jpg', '200004148_00018_2.jpg', '200004148_00071_1.jpg', '100249376_00030_2.jpg', 'umgy006-009.jpg', '200021802-00036_1.jpg', '200021660-00064_2.jpg', '200003076_00004_1.jpg', 'brsk002-028.jpg', 'umgy010-009.jpg', 'brsk002-047.jpg', 'umgy003-038.jpg', '200021763-00007_1.jpg', '100249416_00030_1.jpg', '200021853-00002.jpg', '200021660-00022_1.jpg', '200021763-00005_2.jpg', '100249376_00049_2.jpg', '200021712-00044_2.jpg', '200021712-00029_1.jpg', 'brsk002-017.jpg', 'brsk002-002.jpg', '200004148_00044_1.jpg', '200015779_00051_1.jpg', '200015779_00116_2.jpg', '200021660-00010_1.jpg', '100249371_00003_1.jpg', '200021802-00052_2.jpg', '200021660-00044_2.jpg', '200021802-00044_2.jpg', 'brsk005-009.jpg', '200004148_00047_2.jpg', '200003076_00121_1.jpg', 'hnsd002-003.jpg', 'umgy008-022.jpg', '200021660-00037_1.jpg', 'hnsd011-010.jpg', '200004148_00031_2.jpg', 'brsk002-056.jpg', '200021851_00018_1.jpg', 'brsk003-014.jpg', '200021644_00016_1.jpg', 'umgy001-027.jpg', '200021925-00013_2.jpg', '200015779_00149_1.jpg', '200003076_00043_1.jpg', '200021802-00040_1.jpg', '200014740-00017_2.jpg', '200003076_00014_2.jpg', '200015779_00137_2.jpg', '100249537_00009_2.jpg', '200021644_00017_2.jpg', '200021853-00037_2.jpg', 'hnsd004-042.jpg', 'umgy012-005.jpg', '200004148_00022_2.jpg', 'umgy005-023.jpg', 'umgy006-021.jpg', 'hnsd003-006.jpg', 'brsk004-036.jpg', 'brsk004-040.jpg', '100249537_00091_1.jpg', '200014685-00004_2.jpg', 'umgy007-013.jpg', '200021763-00038_2.jpg', '200003967_00046_1.jpg', '100249376_00012_2.jpg', 'hnsd005-023.jpg', '200015779_00109_2.jpg', '200021644_00033_2.jpg', '200003076_00163_1.jpg', '200021637-00011_1.jpg', '200003076_00029_1.jpg', 'hnsd003-033.jpg', 'brsk005-030.jpg', '200021712-00018_2.jpg', '200003076_00031_2.jpg', '200005598_00027_2.jpg', '100241706_00034_2.jpg', '200015779_00104_1.jpg', '200021802-00012_1.jpg', 'hnsd006-014.jpg', '200004148_00022_1.jpg', '200005598_00039_2.jpg', '200021660-00045_1.jpg', '100249537_00039_1.jpg', '200021660-00069_2.jpg', '200021660-00057_1.jpg', '200003076_00055_2.jpg', '200014740-00016_1.jpg', '100249537_00061_2.jpg', '200014685-00005_1.jpg', '200005598_00032_1.jpg', '200021853-00006_2.jpg', 'umgy007-030.jpg', 'umgy002-006.jpg', '100241706_00040_1.jpg', '200021802-00017_1.jpg', '200004148_00010_1.jpg', '200014685-00029_2.jpg', 'hnsd007-050.jpg', 'umgy007-028.jpg', 'umgy008-029.jpg', 'umgy009-035.jpg', '200003076_00068_2.jpg', '200015779_00123_2.jpg', '200004148_00089_2.jpg', '200003076_00086_2.jpg', '200015779_00162_1.jpg', '100249416_00026_1.jpg', '100249376_00014_1.jpg', '200021802-00025_1.jpg', 'hnsd009-028.jpg', 'umgy010-003.jpg', '200014740-00044_2.jpg', 'hnsd012-010.jpg', '200021660-00075_2.jpg', '200021712-00080_1.jpg', '200021853-00007_1.jpg', '100241706_00034_1.jpg', '200014740-00028_2.jpg', '200003076_00032_2.jpg', 'brsk002-050.jpg', '200015779_00020_2.jpg', 'umgy005-032.jpg', '100249416_00011_1.jpg', 'umgy007-036.jpg', '200003076_00152_2.jpg', 'brsk004-024.jpg', '100249416_00007_2.jpg', '100249476_00015_1.jpg', '100249537_00052_2.jpg', '200014740-00043_2.jpg', '200015779_00039_2.jpg', '200021660-00006_2.jpg', '200021763-00021_1.jpg', '100249376_00052_2.jpg', '100249476_00003_1.jpg', 'hnsd004-015.jpg', '200003076_00133_2.jpg', '200015779_00028_2.jpg', 'hnsd001-040.jpg', 'umgy011-007.jpg', '200014740-00043_1.jpg', 'hnsd011-024.jpg', 'umgy012-010.jpg', '200021712-00022_2.jpg', '200014740-00051_2.jpg', 'hnsd010-018.jpg', '100249537_00061_1.jpg', '200021763-00008_1.jpg', 'brsk002-034.jpg', 'umgy007-024.jpg', '200021851_00010_2.jpg', '200003076_00051_1.jpg', '200021802-00016_1.jpg', '200004148_00075_1.jpg', '200014740-00078_1.jpg', '200021851_00014_2.jpg', '200015779_00036_1.jpg', 'brsk005-039.jpg', 'umgy001-005.jpg', '200004148_00032_1.jpg', '200003076_00071_1.jpg', '200015779_00133_2.jpg', '200015779_00116_1.jpg', 'umgy010-042.jpg', 'hnsd004-041.jpg', '200003076_00042_1.jpg', '200014685-00011_1.jpg', 'hnsd001-046.jpg', 'umgy004-002.jpg', '200003967_00040_2.jpg', '200015779_00152_2.jpg', 'hnsd007-033.jpg', '200021644_00005_2.jpg', 'hnsd004-023.jpg', '200021637-00007_2.jpg', '200003076_00158_2.jpg', '200014685-00003_1.jpg', 'hnsd006-042.jpg', 'hnsd004-028.jpg', 'umgy011-001.jpg', '100249416_00011_2.jpg', '200015779_00132_2.jpg', 'hnsd010-012.jpg', 'umgy004-020.jpg', '200021802-00007_1.jpg', '200014685-00020_2.jpg', 'umgy004-009.jpg', '200003967_00004_2.jpg', '200021644_00003_2.jpg', 'hnsd003-027.jpg', '200014685-00016_2.jpg', 'umgy005-003.jpg', '200004148_00020_2.jpg', '200005598_00038_1.jpg', '200014740-00092_2.jpg', '100249537_00012_2.jpg', '100249537_00057_2.jpg', 'umgy004-017.jpg', 'hnsd007-038.jpg', '100249376_00010_2.jpg', 'umgy010-023.jpg', 'hnsd003-001.jpg', '200003076_00128_1.jpg', '200021802-00005_2.jpg', '200005598_00045_1.jpg', '200014740-00047_1.jpg', '100249537_00042_2.jpg', '200021802-00016_2.jpg']\n"
          ],
          "name": "stdout"
        }
      ]
    },
    {
      "cell_type": "code",
      "metadata": {
        "id": "yiTjkKvaj61x",
        "colab_type": "code",
        "colab": {}
      },
      "source": [
        "def cropImage(labels, img_dir):\n",
        "\n",
        "\n",
        "\n",
        "  labels = labels.split(\" \")\n",
        "\n",
        "  labels[::5] = map(unicodeToInt, labels[::5])\n",
        "  \n",
        "  unicode = labels[::5]\n",
        "  del labels[::5]\n",
        "  labels = np.array(labels, dtype=np.int16)\n",
        "  labels = labels.reshape(-1,4)\n",
        "\n",
        "  labels[:, 2] = np.sum(a=labels[:,[0,2]], axis=1)\n",
        "  labels]:, 3] = np.sum(a=labels[:,[1,3]], axis=1)\n",
        "\n",
        "  [Image.fromarray(img[label[1]:label[3], label[0]:label[2]]).save(f\"{CHARS}/{unicode[]}_{}-{}.jpg\") for ,label in enumerate(labels)]"
      ],
      "execution_count": 0,
      "outputs": []
    },
    {
      "cell_type": "markdown",
      "metadata": {
        "id": "WXeJq3tCc_NR",
        "colab_type": "text"
      },
      "source": [
        "# Useful Functions"
      ]
    },
    {
      "cell_type": "code",
      "metadata": {
        "id": "8kCMAFlrdC2r",
        "colab_type": "code",
        "colab": {}
      },
      "source": [
        "def toPath(string):\n",
        "    ''' image_id to the path to image '''\n",
        "    if \".jpg\" not in string:\n",
        "        string = string + \".jpg\"\n",
        "    return string\n",
        "\n",
        "def toID(string):\n",
        "    ''' image path to image_id '''\n",
        "    if string[-4:] ==\".jpg\":\n",
        "        string = string[:-4]\n",
        "    return string\n",
        "\n"
      ],
      "execution_count": 0,
      "outputs": []
    },
    {
      "cell_type": "code",
      "metadata": {
        "id": "ZvjJ7cnTQRsJ",
        "colab_type": "code",
        "colab": {}
      },
      "source": [
        "def to_coco(boxes: torch.Tensor) -> torch.Tensor:\n",
        "    \"\"\" Convert from pytorch detection format to COCO format.\n",
        "    \"\"\"\n",
        "    boxes = boxes.clone()\n",
        "    boxes[:, 2] -= boxes[:, 0]\n",
        "    boxes[:, 3] -= boxes[:, 1]\n",
        "    return boxes\n",
        "\n",
        "def from_coco(boxes: torch.Tensor) -> torch.Tensor:\n",
        "    \"\"\" Convert from CODO to pytorch detection format.\n",
        "    \"\"\"\n",
        "    boxes = boxes.clone()\n",
        "    boxes[:, 2] += boxes[:, 0]\n",
        "    boxes[:, 3] += boxes[:, 1]\n",
        "    return boxes\n",
        "\n",
        "def scale_boxes(\n",
        "        boxes: torch.Tensor, w_scale: float, h_scale: float) -> torch.Tensor:\n",
        "    return torch.stack([\n",
        "        boxes[:, 0] * w_scale,\n",
        "        boxes[:, 1] * h_scale,\n",
        "        boxes[:, 2] * w_scale,\n",
        "        boxes[:, 3] * h_scale,\n",
        "        ]).t()\n",
        "\n",
        "def get_target_boxes_labels(item):\n",
        "    if item.labels:\n",
        "        labels = np.array(item.labels.split(' ')).reshape(-1, 5)\n",
        "    else:\n",
        "        labels = np.zeros((0, 5))\n",
        "    boxes = labels[:, 1:].astype(np.float)\n",
        "    labels = labels[:, 0]\n",
        "    return boxes, labels"
      ],
      "execution_count": 0,
      "outputs": []
    },
    {
      "cell_type": "code",
      "metadata": {
        "id": "E8ZiuivvQ-9N",
        "colab_type": "code",
        "colab": {}
      },
      "source": [
        "def get_transform(train):\n",
        "    train_initial_size = 2048\n",
        "    crop_min_max_height = (400, 533)\n",
        "    crop_width = 512\n",
        "    crop_height = 384\n",
        "    if train:\n",
        "        transforms = [\n",
        "            A.LongestMaxSize(max_size=train_initial_size),\n",
        "            A.RandomSizedCrop(\n",
        "                min_max_height=crop_min_max_height,\n",
        "                width=crop_width,\n",
        "                height=crop_height,\n",
        "                w2h_ratio=crop_width / crop_height,\n",
        "            ),\n",
        "            A.HueSaturationValue(\n",
        "                hue_shift_limit=7,\n",
        "                sat_shift_limit=10,\n",
        "                val_shift_limit=10,\n",
        "            ),\n",
        "            A.RandomBrightnessContrast(),\n",
        "            A.RandomGamma(),\n",
        "        ]\n",
        "    else:\n",
        "        test_size = int(train_initial_size *\n",
        "                        crop_height / np.mean(crop_min_max_height))\n",
        "        print(f'Test image max size {test_size} px')\n",
        "        transforms = [\n",
        "            A.LongestMaxSize(max_size=test_size),\n",
        "        ]\n",
        "    transforms.extend([\n",
        "        ToTensor(),\n",
        "    ])\n",
        "    return A.Compose(\n",
        "        transforms,\n",
        "        bbox_params={\n",
        "            'format': 'coco',\n",
        "            'min_area': 0,\n",
        "            'min_visibility': 0.5,\n",
        "            'label_fields': ['labels'],\n",
        "        },\n",
        "    )\n",
        "\n"
      ],
      "execution_count": 0,
      "outputs": []
    },
    {
      "cell_type": "code",
      "metadata": {
        "id": "G7_MB-3idGHI",
        "colab_type": "code",
        "outputId": "c0630c89-2c7b-4147-b286-6fafff3e3267",
        "colab": {
          "base_uri": "https://localhost:8080/",
          "height": 51
        }
      },
      "source": [
        "# In the training data, we get an entire string with all the characters in it and that needs to be splitted\n",
        "# new list, every element is one char + all the information needed to create the bounding box\n",
        "def splitEachChar(string):\n",
        "    string = str(string)\n",
        "    string = (re.findall(r\"(?:\\S*\\s){5}\", string))\n",
        "    return [line[:-1]for line in string]\n",
        "\n",
        "# new list, split everything by a blank\n",
        "def splitEachInformation(string):\n",
        "    string = str(string)\n",
        "    string = string.split(\" \")\n",
        "    return string\n",
        "        \n",
        "    \n",
        "    \n",
        "print(splitEachChar(train_set.labels[0])[:2])\n",
        "print(splitEachInformation(train_set.labels[0])[:5])"
      ],
      "execution_count": 0,
      "outputs": [
        {
          "output_type": "stream",
          "text": [
            "['U+306F 1231 3465 133 53', 'U+304C 275 1652 84 69']\n",
            "['U+306F', '1231', '3465', '133', '53']\n"
          ],
          "name": "stdout"
        }
      ]
    },
    {
      "cell_type": "code",
      "metadata": {
        "id": "XkTaQTwLdh_q",
        "colab_type": "code",
        "colab": {}
      },
      "source": [
        "#function to get all unicode chars from a string with regex\n",
        "def get_unicodes(string):\n",
        "    string = str(string)\n",
        "    return re.findall(r'U[+][\\S]*', string)\n",
        "\n",
        "#returns the image size given the image_id or path to the image\n",
        "def getImageSize(image):\n",
        "    path = toPath(image)\n",
        "    width, height = Image.open(img_dir/path).size\n",
        "    return [width, height]\n",
        "\n",
        "#getImageSize(test_img_id)"
      ],
      "execution_count": 0,
      "outputs": []
    },
    {
      "cell_type": "code",
      "metadata": {
        "id": "x7T3thZqhHjK",
        "colab_type": "code",
        "colab": {}
      },
      "source": [
        "#counts of all the times a unicode has come up in translation. Can be used for EDA\n",
        "\n",
        "#a mapping of unicode to the actual char \n",
        "unicode_map = {codepoint: char for codepoint, char in unimap.values}\n",
        "#list form of all the unicodes in the transation, no repeats \n",
        "unicode_list = list(unicode_map)\n",
        "print(unicode_map)\n",
        "\n",
        "#unicode to the class ID\n",
        "unicode2class = dict(zip(unimap['Unicode'], unimap.index.values))\n",
        "print(unicode2class)\n",
        "\n",
        "#turns the unicode into the actual character\n",
        "def unicodeToCharacter(unicode):\n",
        "    return unicode_map[unicode]\n",
        "\n",
        "# unicode to int conversion and the other way around\n",
        "# unique identifier for every unicode character\n",
        "def unicodeToInt(unicode):\n",
        "    return unicode_list.index(unicode)\n",
        "\n",
        "def intToUnicode(integer):\n",
        "    return unicode_list[integer]\n",
        "\n",
        "test_unicode = unicode_list[10]\n",
        "print(intToUnicode(57))\n",
        "\n",
        "#iterate through bbox parameters \n",
        "def iter_bboxes(labels):\n",
        "    if not labels:\n",
        "        return\n",
        "    labels = labels.split()\n",
        "    n = len(labels)\n",
        "    assert n % 5 == 0\n",
        "    for i in range(0, n, 5):\n",
        "        ch, x, y, w, h = labels[i:i + 5]\n",
        "        yield int(x), int(y), int(w), int(h), ch"
      ],
      "execution_count": 0,
      "outputs": []
    },
    {
      "cell_type": "markdown",
      "metadata": {
        "id": "WrWAk-gpI7pB",
        "colab_type": "text"
      },
      "source": [
        "## Creates Bounding Boxes\n",
        "* bboxes for train is from the labels \n",
        "* gives backbones for the test "
      ]
    },
    {
      "cell_type": "code",
      "metadata": {
        "id": "H3BOonOG0koy",
        "colab_type": "code",
        "colab": {}
      },
      "source": [
        " def prepare_train():  \n",
        "    # Add images to COCO\n",
        "    images = []\n",
        "    for img_id, row in tqdm(train_set.iterrows()):\n",
        "        filename = row['image_id'] + '.jpg'\n",
        "        img = Image.open(img_dir / filename)\n",
        "        image = {\n",
        "            'filename': filename,\n",
        "            'width': img.width,\n",
        "            'height': img.height,\n",
        "        }\n",
        "        bboxes = []\n",
        "        labels = []\n",
        "        for x, y, w, h, ch in iter_bboxes(row['labels']):\n",
        "            bboxes.append([x, y, x + w, y + h])\n",
        "            # labels.append(1)\n",
        "            labels.append(unicode2class[ch] + 1)\n",
        "        image['ann'] = {\n",
        "            'bboxes': np.array(bboxes).astype(np.float32).reshape(-1, 4),\n",
        "            'labels': np.array(labels).astype(np.int64).reshape(-1),\n",
        "            'bboxes_ignore': np.array([], dtype=np.float32).reshape(-1, 4),\n",
        "            'labels_ignore': np.array([], dtype=np.int64).reshape(-1, )\n",
        "        }\n",
        "        images.append(image)\n",
        "    #print(images[1])\n",
        "    import random\n",
        "    random.shuffle(images)\n",
        "    #os.mkdir('/content/kaggle/data')\n",
        "    open('/content/kaggle/data/dval.pkl', 'a').close()\n",
        "    open('/content/kaggle/data/dtrain.pkl', 'a').close()\n",
        "    open('/content/kaggle/data/dtrainval.pkl', 'a').close()\n",
        "    open('/content/kaggle/data/dtest.pkl', 'a').close()\n",
        "    print(os.listdir('/content/kaggle/data'))\n",
        "    mmcv.dump([im for im in images if im['filename'].startswith('umgy')], '/content/kaggle/data/dval.pkl')\n",
        "    mmcv.dump([im for im in images if not im['filename'].startswith('umgy')], '/content/kaggle/data/dtrain.pkl')\n",
        "    mmcv.dump(images, '/content/kaggle/data/dtrainval.pkl')\n",
        "\n"
      ],
      "execution_count": 0,
      "outputs": []
    },
    {
      "cell_type": "code",
      "metadata": {
        "id": "JIlrBC5u8iSu",
        "colab_type": "code",
        "colab": {}
      },
      "source": [
        "def prepare_test():\n",
        "    \n",
        "\n",
        "    images = []\n",
        "    for img_id, row in tqdm(sample_submiss.iterrows()):\n",
        "        filename = row['image_id'] + '.jpg'\n",
        "        img = Image.open(img_dirTest / filename)\n",
        "        images.append({\n",
        "            'filename': filename,\n",
        "            'width': img.width,\n",
        "            'height': img.height,\n",
        "            'ann': {\n",
        "                'bboxes': np.array([], dtype=np.float32).reshape(-1, 4),\n",
        "                'labels': np.array([], dtype=np.int64).reshape(-1, ),\n",
        "                'bboxes_ignore': np.array([], dtype=np.float32).reshape(-1, 4),\n",
        "                'labels_ignore': np.array([], dtype=np.int64).reshape(-1, )\n",
        "            }\n",
        "        })\n",
        "    mmcv.dump(images, '/content/kaggle/data/dtest.pkl')"
      ],
      "execution_count": 0,
      "outputs": []
    },
    {
      "cell_type": "code",
      "metadata": {
        "id": "twAppdPRDIuE",
        "colab_type": "code",
        "outputId": "2c288f07-dbb9-4ce9-f963-af41b2f12c00",
        "colab": {
          "base_uri": "https://localhost:8080/",
          "height": 51
        }
      },
      "source": [
        "prepare_train()\n",
        "prepare_test()\n",
        "print(len([im for im in images if im['filename'].startswith('umgy')]))\n",
        "print(len(images))"
      ],
      "execution_count": 0,
      "outputs": [
        {
          "output_type": "stream",
          "text": [
            "496\n",
            "3881\n"
          ],
          "name": "stdout"
        }
      ]
    },
    {
      "cell_type": "markdown",
      "metadata": {
        "id": "wnnrjQr2Je8b",
        "colab_type": "text"
      },
      "source": [
        "## Another bbox image display from the visualization notebook"
      ]
    },
    {
      "cell_type": "code",
      "metadata": {
        "id": "fzOyEMcakaa9",
        "colab_type": "code",
        "colab": {}
      },
      "source": [
        "def isUnicode(string):\n",
        "    ''' check whether the passed string is a unicode or not '''\n",
        "    string = string.strip()\n",
        "    if re.match(\"^U\\+\\w{4,5}$\", string):\n",
        "        return(True)\n",
        "    else:\n",
        "        return(False)\n",
        "    "
      ],
      "execution_count": 0,
      "outputs": []
    },
    {
      "cell_type": "code",
      "metadata": {
        "id": "h_vPPp_2kpge",
        "colab_type": "code",
        "colab": {}
      },
      "source": [
        "def displayImage(filepath=None, directory=None, image_id=None):\n",
        "    \"\"\"\n",
        "    display one image with matplotlib, the actual image\n",
        "    \n",
        "    Parameters:\n",
        "    - either specify the entire filepath or (the direcory and the image_id)\n",
        "    \n",
        "    Returns:\n",
        "    - matplotlib.pyplot figure of the image\n",
        "    \"\"\"\n",
        "    \n",
        "    if filepath == None:\n",
        "        if (directory == None) and (image_id==None):\n",
        "            print(\"path to file not specified\")\n",
        "            return None\n",
        "        else:\n",
        "            filepath=directory/toPath(image_id)\n",
        "    \n",
        "    plt.figure(figsize=(15,15))\n",
        "    this_img = Image.open(filepath)\n",
        "    plt.imshow(this_img)\n",
        "    return plt\n",
        "\n",
        "#displayImage(directory=TRAIN, image_id=test_img_id)"
      ],
      "execution_count": 0,
      "outputs": []
    },
    {
      "cell_type": "code",
      "metadata": {
        "id": "BTFHukFKk5pa",
        "colab_type": "code",
        "colab": {}
      },
      "source": [
        "# take the image_id return an image with bounding boxes around each character\n",
        "# image_id is the filename without the file extension (in this case .jpg)\n",
        "\n",
        "# get all the characters and the position of the bounding boxes for an image\n",
        "def getLabels(image_id):\n",
        "    allLabels = train_set.loc[train_df[\"image_id\"]==image_id].labels[0]\n",
        "    allLabels = np.array(allLabels.split(\" \")).reshape(-1, 5)\n",
        "    return allLabels\n",
        "\n",
        "def drawBoxAndText(ax, label):\n",
        "    codepoint, x, y, w, h = label\n",
        "    x, y, w, h = int(x), int(y), int(w), int(h)\n",
        "    rect = Rectangle((x, y), w, h, linewidth=1, edgecolor=\"r\", facecolor=\"none\")\n",
        "    ax.add_patch(rect)\n",
        "    ax.text(x+w+25, y+(h/2)+20, unicodeToCharacter(codepoint),\n",
        "            fontproperties=prop,\n",
        "            color=\"r\",\n",
        "           size=16)\n",
        "    return ax\n",
        "\n",
        "def displayTrainingData(image_id):\n",
        "    labels = getLabels(image_id)\n",
        "    plt = displayImage(directory=TRAIN, image_id=image_id)\n",
        "    ax = plt.gca()\n",
        "\n",
        "    for label in labels:\n",
        "        ax = drawBoxAndText(ax, label)\n",
        "        \n",
        "    \n",
        "#displayTrainingData(test_img_id)"
      ],
      "execution_count": 0,
      "outputs": []
    },
    {
      "cell_type": "code",
      "metadata": {
        "id": "MuQB2C1Ehrww",
        "colab_type": "code",
        "colab": {}
      },
      "source": [
        "def filenameToUnicodeInt(string):\n",
        "    '''\n",
        "    filename to integer representing a unicode\n",
        "    '''\n",
        "    unicode = string.split(\"_\")[0]\n",
        "    unicodeInteger = unicodeToInt(unicode)\n",
        "    return unicodeInteger"
      ],
      "execution_count": 0,
      "outputs": []
    },
    {
      "cell_type": "markdown",
      "metadata": {
        "id": "Qsx1XxphlUbL",
        "colab_type": "text"
      },
      "source": [
        "# EDA\n"
      ]
    },
    {
      "cell_type": "code",
      "metadata": {
        "id": "1f_QRseGlX0G",
        "colab_type": "code",
        "colab": {}
      },
      "source": [
        "#concatenate all labels to one string\n",
        "all_labels = train_set.labels.str.cat(sep=\" \")\n",
        "\n",
        "# get all unicodes in that string\n",
        "all_unicodes = get_unicodes(all_labels)\n",
        "\n",
        "# get the number of unique values from all unicodes\n",
        "len(set(all_unicodes))\n",
        "\n",
        "#Only 4212 of the 4787 characters are in the training set. Thus some characters definitely can't be predicted."
      ],
      "execution_count": 0,
      "outputs": []
    },
    {
      "cell_type": "code",
      "metadata": {
        "id": "1f4Ql7vSlmyi",
        "colab_type": "code",
        "colab": {}
      },
      "source": [
        "#drop the images with no labels \n",
        "train_set.isnull().sum()\n"
      ],
      "execution_count": 0,
      "outputs": []
    },
    {
      "cell_type": "code",
      "metadata": {
        "id": "QfDlEEXlic3o",
        "colab_type": "code",
        "colab": {}
      },
      "source": [
        "\n",
        "train_set.dropna(inplace=True)\n",
        "train_set.reset_index(inplace=True, drop=True)\n",
        "print (\"TRAIN: \", train_set.shape)"
      ],
      "execution_count": 0,
      "outputs": []
    },
    {
      "cell_type": "markdown",
      "metadata": {
        "id": "qtOq4nHihVse",
        "colab_type": "text"
      },
      "source": [
        "# Character Segmentation - Input Type 1\n"
      ]
    },
    {
      "cell_type": "code",
      "metadata": {
        "id": "pTHjUFQcheBW",
        "colab_type": "code",
        "colab": {}
      },
      "source": [
        ""
      ],
      "execution_count": 0,
      "outputs": []
    }
  ]
}